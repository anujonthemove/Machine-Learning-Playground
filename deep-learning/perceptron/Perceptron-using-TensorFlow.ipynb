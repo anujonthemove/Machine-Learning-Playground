{
 "cells": [
  {
   "cell_type": "markdown",
   "metadata": {},
   "source": [
    "# The perceptron\n",
    "intuition:https://sebastianraschka.com/Articles/2015_singlelayer_neurons.html\n",
    "\n",
    "code: https://towardsdatascience.com/tensorflow-for-absolute-beginners-28c1544fb0d6"
   ]
  },
  {
   "cell_type": "code",
   "execution_count": 5,
   "metadata": {},
   "outputs": [
    {
     "name": "stderr",
     "output_type": "stream",
     "text": [
      "/home/anuj/.virtualenvs/video-analytics-2/local/lib/python2.7/site-packages/h5py/__init__.py:36: FutureWarning: Conversion of the second argument of issubdtype from `float` to `np.floating` is deprecated. In future, it will be treated as `np.float64 == np.dtype(float).type`.\n",
      "  from ._conv import register_converters as _register_converters\n"
     ]
    }
   ],
   "source": [
    "import tensorflow as tf"
   ]
  },
  {
   "cell_type": "code",
   "execution_count": 6,
   "metadata": {},
   "outputs": [],
   "source": [
    "def step(x):\n",
    "    is_greater = tf.greater(x, 0)\n",
    "    as_float = tf.to_float(is_greater)\n",
    "    doubled = tf.multiply(as_float, 2)\n",
    "    return tf.subtract(doubled, 1)"
   ]
  },
  {
   "cell_type": "code",
   "execution_count": 7,
   "metadata": {},
   "outputs": [],
   "source": [
    "def train_perceptron(X, y):\n",
    "    \n",
    "    # reason for dimension 3x1\n",
    "    # 3 - since there are 2 inputs + 1 for bias\n",
    "    # 1 - binary classification \n",
    "    # if there were 10 classes, it would have been 10 i.e., 3x10\n",
    "    weights = tf.Variable(tf.random_normal([3, 1]))\n",
    "\n",
    "    # going by perceptron learning rule\n",
    "    # the heavy-side step function itself is the acativation here\n",
    "    y_pred = step(tf.matmul(X, weights))\n",
    "    error = tf.subtract(y, y_pred)\n",
    "    mse = tf.reduce_mean(tf.square(error))\n",
    "\n",
    "    # dw = eta*(target - output)*x\n",
    "    # eta = 1 here\n",
    "    delta_w = tf.matmul(X, error, transpose_a=True)\n",
    "    # going by perceptron weight update rule\n",
    "    train_weights = tf.assign(weights, tf.add(delta_w, weights))\n",
    "\n",
    "\n",
    "    sess = tf.Session()\n",
    "    sess.run(tf.global_variables_initializer())\n",
    "\n",
    "    err, target = 1, 0\n",
    "    epochs, max_epochs = 0, 10\n",
    "\n",
    "\n",
    "    while err > target and epochs < max_epochs:\n",
    "        epochs += 1\n",
    "        err, _ = sess.run([mse, train_weights])\n",
    "        print('epochs: ', epochs, 'mse: ', err)\n",
    "\n",
    "\n",
    "    print(sess.run(weights))\n",
    "    return sess, weights"
   ]
  },
  {
   "cell_type": "markdown",
   "metadata": {},
   "source": [
    "### training data"
   ]
  },
  {
   "cell_type": "code",
   "execution_count": 8,
   "metadata": {},
   "outputs": [],
   "source": [
    "T, F = 1.0, -1.0\n",
    "bias = 1.0\n",
    "\n",
    "X = [\n",
    "    [T, T, bias],\n",
    "    [T, F, bias],\n",
    "    [F, T, bias],\n",
    "    [F, F, bias],\n",
    "]\n",
    "\n",
    "y = [\n",
    "    [T],\n",
    "    [F],\n",
    "    [F],\n",
    "    [F],\n",
    "]"
   ]
  },
  {
   "cell_type": "markdown",
   "metadata": {},
   "source": [
    "### train model\n",
    "Obtain weights and the TensorFLow session variable"
   ]
  },
  {
   "cell_type": "code",
   "execution_count": 9,
   "metadata": {},
   "outputs": [
    {
     "name": "stdout",
     "output_type": "stream",
     "text": [
      "('epochs: ', 1, 'mse: ', 2.0)\n",
      "('epochs: ', 2, 'mse: ', 0.0)\n",
      "[[ 2.4099307]\n",
      " [ 1.8215364]\n",
      " [-1.7092421]]\n"
     ]
    }
   ],
   "source": [
    "sess, weights = train_perceptron(X, y)"
   ]
  },
  {
   "cell_type": "markdown",
   "metadata": {},
   "source": [
    "### predictions"
   ]
  },
  {
   "cell_type": "code",
   "execution_count": 11,
   "metadata": {},
   "outputs": [
    {
     "data": {
      "text/plain": [
       "array([[ 1.],\n",
       "       [-1.]], dtype=float32)"
      ]
     },
     "execution_count": 11,
     "metadata": {},
     "output_type": "execute_result"
    }
   ],
   "source": [
    "X_test = [[T, T, bias], [F, F, bias]]\n",
    "output = step(tf.matmul(X_test, weights))\n",
    "sess.run(output)"
   ]
  },
  {
   "cell_type": "code",
   "execution_count": null,
   "metadata": {},
   "outputs": [],
   "source": []
  }
 ],
 "metadata": {
  "kernelspec": {
   "display_name": "Python 2",
   "language": "python",
   "name": "python2"
  },
  "language_info": {
   "codemirror_mode": {
    "name": "ipython",
    "version": 2
   },
   "file_extension": ".py",
   "mimetype": "text/x-python",
   "name": "python",
   "nbconvert_exporter": "python",
   "pygments_lexer": "ipython2",
   "version": "2.7.12"
  }
 },
 "nbformat": 4,
 "nbformat_minor": 2
}
