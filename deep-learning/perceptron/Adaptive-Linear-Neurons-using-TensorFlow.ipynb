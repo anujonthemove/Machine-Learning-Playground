{
 "cells": [
  {
   "cell_type": "markdown",
   "metadata": {},
   "source": [
    "# ADALINE implementation using tensorflow\n",
    "intuition: https://sebastianraschka.com/Articles/2015_singlelayer_neurons.html"
   ]
  },
  {
   "cell_type": "code",
   "execution_count": 1,
   "metadata": {},
   "outputs": [
    {
     "name": "stderr",
     "output_type": "stream",
     "text": [
      "/home/anuj/.virtualenvs/video-analytics-2/local/lib/python2.7/site-packages/h5py/__init__.py:36: FutureWarning: Conversion of the second argument of issubdtype from `float` to `np.floating` is deprecated. In future, it will be treated as `np.float64 == np.dtype(float).type`.\n",
      "  from ._conv import register_converters as _register_converters\n"
     ]
    }
   ],
   "source": [
    "import tensorflow as tf\n",
    "import time\n",
    "from pprint import pprint"
   ]
  },
  {
   "cell_type": "code",
   "execution_count": 2,
   "metadata": {},
   "outputs": [],
   "source": [
    "# heavy-side step function\n",
    "def step(x):\n",
    "    is_greater = tf.greater(x, 0)\n",
    "    as_float = tf.to_float(is_greater)\n",
    "    doubled = tf.multiply(as_float, 2)\n",
    "    return tf.subtract(doubled, 1)\n",
    "\n",
    "# linear activation function\n",
    "def linear_activation(x, w):\n",
    "    return tf.matmul(x, w)\n",
    "\n",
    "def train_perceptron(X, y):\n",
    "    # reason for dimension 3x1\n",
    "    # 3 - since there are 2 inputs + 1 for bias\n",
    "    # 1 - binary classification \n",
    "    # if there were 10 classes, it would have been 10 i.e., 3x10\n",
    "    weights = tf.Variable(tf.random_normal([3, 1]))\n",
    "    x_ = tf.placeholder(tf.float32, shape=[4,3], name = 'x-input')\n",
    "    y_ = tf.placeholder(tf.float32, shape=[4,1], name = 'y-input')\n",
    "\n",
    "\n",
    "    # going by perceptron learning rule\n",
    "    # the heavy-side step function itself is the acativation here\n",
    "    y_pred = linear_activation(X, weights)\n",
    "    error = tf.subtract(y_, y_pred)\n",
    "    mse = tf.reduce_mean(tf.square(error))\n",
    "\n",
    "    train_step = tf.train.GradientDescentOptimizer(0.01).minimize(mse)\n",
    "\n",
    "    init = tf.global_variables_initializer()\n",
    "    sess = tf.Session()\n",
    "\n",
    "    sess.run(init)\n",
    "\n",
    "    t_start = time.clock()\n",
    "    for i in range(1000):\n",
    "        sess.run(train_step, feed_dict={x_: X, y_: y})\n",
    "        if i % 100 == 0:\n",
    "            print('Epoch: ' + str(i))\n",
    "            print('weights: \\n' + str(sess.run(weights, feed_dict={x_: X, y_: y})))\n",
    "            print('cost: ' + str(sess.run(mse, feed_dict={x_: X, y_: y})))\n",
    "            print('\\n')\n",
    "    t_end = time.clock()\n",
    "    print('Elapsed time ', t_end - t_start)\n",
    "\n",
    "    return sess, weights"
   ]
  },
  {
   "cell_type": "markdown",
   "metadata": {},
   "source": [
    "### training input"
   ]
  },
  {
   "cell_type": "code",
   "execution_count": 3,
   "metadata": {},
   "outputs": [],
   "source": [
    "T, F = 1.0, -1.0\n",
    "bias = 1.0\n",
    "\n",
    "# input\n",
    "X = [\n",
    "    [T, T, bias],\n",
    "    [T, F, bias], \n",
    "    [F, T, bias],\n",
    "    [F, T, bias]\n",
    "]\n",
    "\n",
    "# target/label\n",
    "y = [\n",
    "    [T],\n",
    "    [F],\n",
    "    [F],\n",
    "    [F]\n",
    "]"
   ]
  },
  {
   "cell_type": "markdown",
   "metadata": {},
   "source": [
    "### training for AND gate"
   ]
  },
  {
   "cell_type": "code",
   "execution_count": 4,
   "metadata": {},
   "outputs": [
    {
     "name": "stdout",
     "output_type": "stream",
     "text": [
      "Epoch: 0\n",
      "weights: \n",
      "[[-0.66724455]\n",
      " [-0.63413036]\n",
      " [-0.23864847]]\n",
      "cost: 2.0611\n",
      "\n",
      "\n",
      "Epoch: 100\n",
      "weights: \n",
      "[[ 0.28055784]\n",
      " [ 0.07008365]\n",
      " [-0.40069702]]\n",
      "cost: 0.5151828\n",
      "\n",
      "\n",
      "Epoch: 200\n",
      "weights: \n",
      "[[ 0.6260918 ]\n",
      " [ 0.48256007]\n",
      " [-0.64202464]]\n",
      "cost: 0.156992\n",
      "\n",
      "\n",
      "Epoch: 300\n",
      "weights: \n",
      "[[ 0.79560083]\n",
      " [ 0.71243256]\n",
      " [-0.7977139 ]]\n",
      "cost: 0.04844428\n",
      "\n",
      "\n",
      "Epoch: 400\n",
      "weights: \n",
      "[[ 0.8868609 ]\n",
      " [ 0.84019554]\n",
      " [-0.8871412 ]]\n",
      "cost: 0.014959551\n",
      "\n",
      "\n",
      "Epoch: 500\n",
      "weights: \n",
      "[[ 0.93718666]\n",
      " [ 0.911195  ]\n",
      " [-0.93722385]]\n",
      "cost: 0.0046197153\n",
      "\n",
      "\n",
      "Epoch: 600\n",
      "weights: \n",
      "[[ 0.9651017]\n",
      " [ 0.9506498]\n",
      " [-0.9651068]]\n",
      "cost: 0.0014266459\n",
      "\n",
      "\n",
      "Epoch: 700\n",
      "weights: \n",
      "[[ 0.9806077]\n",
      " [ 0.9725756]\n",
      " [-0.9806083]]\n",
      "cost: 0.00044056936\n",
      "\n",
      "\n",
      "Epoch: 800\n",
      "weights: \n",
      "[[ 0.9892236]\n",
      " [ 0.9847598]\n",
      " [-0.9892236]]\n",
      "cost: 0.00013605625\n",
      "\n",
      "\n",
      "Epoch: 900\n",
      "weights: \n",
      "[[ 0.9940114]\n",
      " [ 0.9915307]\n",
      " [-0.9940114]]\n",
      "cost: 4.201736e-05\n",
      "\n",
      "\n",
      "('Elapsed time ', 1.363747)\n"
     ]
    }
   ],
   "source": [
    "sess, weights = train_perceptron(X, y)"
   ]
  },
  {
   "cell_type": "markdown",
   "metadata": {},
   "source": [
    "### prediction"
   ]
  },
  {
   "cell_type": "code",
   "execution_count": 5,
   "metadata": {},
   "outputs": [],
   "source": [
    "# predictions\n",
    "X_test = [[T, T, bias], [T, F, bias]]\n",
    "\n",
    "# expected ouput: 1, -1"
   ]
  },
  {
   "cell_type": "code",
   "execution_count": 6,
   "metadata": {},
   "outputs": [
    {
     "name": "stdout",
     "output_type": "stream",
     "text": [
      "('predictions: ', array([[ 1.],\n",
      "       [-1.]], dtype=float32))\n"
     ]
    }
   ],
   "source": [
    "predict = step(linear_activation(X_test, weights))\n",
    "print('predictions: ', sess.run(predict))"
   ]
  },
  {
   "cell_type": "code",
   "execution_count": null,
   "metadata": {},
   "outputs": [],
   "source": []
  }
 ],
 "metadata": {
  "kernelspec": {
   "display_name": "Python 2",
   "language": "python",
   "name": "python2"
  },
  "language_info": {
   "codemirror_mode": {
    "name": "ipython",
    "version": 2
   },
   "file_extension": ".py",
   "mimetype": "text/x-python",
   "name": "python",
   "nbconvert_exporter": "python",
   "pygments_lexer": "ipython2",
   "version": "2.7.12"
  }
 },
 "nbformat": 4,
 "nbformat_minor": 2
}
