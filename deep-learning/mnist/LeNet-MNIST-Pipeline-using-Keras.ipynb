{
 "cells": [
  {
   "cell_type": "markdown",
   "metadata": {},
   "source": [
    "## Mix of pipeline from pyimagesearch and keras MNIST example/tutorial(s)\n",
    "* Codes taken from:\n",
    "    \n",
    "    * https://www.pyimagesearch.com/2016/08/01/lenet-convolutional-neural-network-in-python/\n",
    "    * https://github.com/keras-team/keras/blob/master/examples/mnist_cnn.py\n",
    "* Added explainations as per my own understanding. \n",
    "* Cited resources wherever possible.\n",
    "\n",
    "#### What more can be added?\n",
    "\n",
    "- Implement a module/detector which can take a video/camera feed, able to localize and identify digits.\n",
    "\n",
    "@anujonthemove"
   ]
  },
  {
   "cell_type": "markdown",
   "metadata": {},
   "source": [
    "## Imports"
   ]
  },
  {
   "cell_type": "code",
   "execution_count": 1,
   "metadata": {},
   "outputs": [
    {
     "name": "stderr",
     "output_type": "stream",
     "text": [
      "/home/anuj/.virtualenvs/video-analytics-2/local/lib/python2.7/site-packages/h5py/__init__.py:36: FutureWarning: Conversion of the second argument of issubdtype from `float` to `np.floating` is deprecated. In future, it will be treated as `np.float64 == np.dtype(float).type`.\n",
      "  from ._conv import register_converters as _register_converters\n",
      "Using TensorFlow backend.\n",
      "/home/anuj/.virtualenvs/video-analytics-2/local/lib/python2.7/site-packages/sklearn/cross_validation.py:41: DeprecationWarning: This module was deprecated in version 0.18 in favor of the model_selection module into which all the refactored classes and functions are moved. Also note that the interface of the new CV iterators are different from that of this module. This module will be removed in 0.20.\n",
      "  \"This module will be removed in 0.20.\", DeprecationWarning)\n"
     ]
    }
   ],
   "source": [
    "# keras\n",
    "import keras\n",
    "from keras.models import Sequential\n",
    "from keras.layers import Dense, Dropout, Flatten\n",
    "from keras.layers import Conv2D, MaxPooling2D, Activation\n",
    "from keras import backend as K\n",
    "# part of keras util to load mnist dataset\n",
    "# from keras.datasets import mnist\n",
    "\n",
    "# scikit-learn\n",
    "from sklearn import datasets\n",
    "from sklearn.cross_validation import train_test_split\n",
    "\n",
    "import numpy as np\n",
    "\n",
    "import matplotlib.pyplot as plt\n",
    "%matplotlib inline\n",
    "\n",
    "import cv2\n",
    "\n",
    "import os"
   ]
  },
  {
   "cell_type": "markdown",
   "metadata": {},
   "source": [
    "## Network parameters"
   ]
  },
  {
   "cell_type": "code",
   "execution_count": 2,
   "metadata": {},
   "outputs": [],
   "source": [
    "batch_size = 128\n",
    "num_classes = 10\n",
    "epochs = 20\n",
    "img_rows, img_cols = (28, 28)"
   ]
  },
  {
   "cell_type": "markdown",
   "metadata": {},
   "source": [
    "## Class - for network architecture"
   ]
  },
  {
   "cell_type": "code",
   "execution_count": 3,
   "metadata": {},
   "outputs": [],
   "source": [
    "class LeNet(object):\n",
    "       \n",
    "    @staticmethod\n",
    "    def pyimagesearch_build(input_shape, num_classes, weightsPath=None):\n",
    "        model = Sequential()\n",
    "        \n",
    "        # first: conv => relu => pool\n",
    "        model.add(Conv2D(20, 5, 5, input_shape=input_shape))\n",
    "        model.add(Activation('relu'))\n",
    "        model.add(MaxPooling2D(pool_size=(2, 2), strides=(2, 2)))\n",
    "        \n",
    "        # second: conv => relu => pool\n",
    "        model.add(Conv2D(50, 5, 5))\n",
    "        model.add(Activation('relu'))\n",
    "        model.add(MaxPooling2D(pool_size=(2, 2), strides=(2, 2)))\n",
    "                \n",
    "        # flatten - convert matrix to 1d vector\n",
    "        # till here we have all the features ready in a vector\n",
    "        model.add(Flatten())\n",
    "        \n",
    "        # The output from the convolutional layers represents high-level features in the data. \n",
    "        # While that output could be flattened and connected to the output layer, \n",
    "        # adding a fully-connected layer is a (usually) cheap way of learning \n",
    "        # non-linear combinations of these features.\n",
    "        # Essentially the convolutional layers are providing a meaningful, \n",
    "        # low-dimensional, and somewhat invariant feature space, \n",
    "        # and the fully-connected layer is learning a (possibly non-linear) function in that space.\n",
    "        # https://stats.stackexchange.com/questions/182102/what-do-the-fully-connected-layers-do-in-cnns\n",
    "        model.add(Dense(500))\n",
    "        model.add(Activation('relu')) # - this is responsible for the non-linearity\n",
    "        \n",
    "        # outout layer with softmax classifier\n",
    "        model.add(Dense(num_classes))\n",
    "        model.add(Activation('softmax'))\n",
    "        \n",
    "        # if a weights path is supplied (inicating that the model was\n",
    "        # pre-trained), then load the weights\n",
    "        if weightsPath is not None:\n",
    "            model.load_weights(weightsPath)\n",
    "\n",
    "        # return the constructed network architecture\n",
    "        return model\n",
    "\n",
    "    @staticmethod\n",
    "    def keras_build(input_shape, num_classes, weightsPath=None):\n",
    "        model = Sequential()\n",
    "\n",
    "        # first\n",
    "        model.add(Conv2D(32, kernel_size=(3, 3), input_shape=input_shape))\n",
    "        model.add(Activation(\"relu\"))\n",
    "        model.add(MaxPooling2D(pool_size=(2, 2), strides=(2, 2)))\n",
    "\n",
    "        # second\n",
    "        model.add(Conv2D(64, kernel_size=(3, 3)))\n",
    "        model.add(Activation(\"relu\"))\n",
    "        model.add(MaxPooling2D(pool_size=(2, 2)))\n",
    "\n",
    "        model.add(Dropout(0.25))\n",
    "\n",
    "        model.add(Flatten())\n",
    "        model.add(Dense(128))\n",
    "        model.add(Activation(\"relu\"))\n",
    "\n",
    "        model.add(Dropout(0.5))\n",
    "\n",
    "        model.add(Dense(num_classes))\n",
    "        model.add(Activation('softmax'))\n",
    "        \n",
    "        # if a weights path is supplied (inicating that the model was\n",
    "        # pre-trained), then load the weights\n",
    "        if weightsPath is not None:\n",
    "            model.load_weights(weightsPath)\n",
    "\n",
    "        # return the constructed network architecture\n",
    "        return model\n"
   ]
  },
  {
   "cell_type": "markdown",
   "metadata": {},
   "source": [
    "## Class - for getting data and model building"
   ]
  },
  {
   "cell_type": "code",
   "execution_count": 4,
   "metadata": {},
   "outputs": [],
   "source": [
    "class Preprocess(object):\n",
    "    \n",
    "    @staticmethod\n",
    "    def prepare_data(num_classes):\n",
    "    \n",
    "        input_shape = None\n",
    "\n",
    "        # 1. get dataset using scikit learn util\n",
    "        dataset = datasets.fetch_mldata(\"MNIST Original\")\n",
    "        print(\"Downloaded dataset shape: \" + str(dataset.data.shape))\n",
    "\n",
    "        # Alternative to scikit is keras own util: \n",
    "        # loads train and test data using keras utils- uncomment corresponding import\n",
    "        # the data is already split between train and test sets\n",
    "        # (x_train, y_train), (x_test, y_test) = mnist.load_data()\n",
    "\n",
    "        # 2. Important step: check what backend is being used, using that info get the input shape\n",
    "        # to be given to the model(api per say)\n",
    "        if K.image_data_format() == 'channels_first':\n",
    "            # X(not y)\n",
    "            data = dataset.data.reshape(dataset.data.shape[0], 1, img_rows, img_cols)\n",
    "            # here 1 is because we have a single channel grayscale image\n",
    "            input_shape = (1, img_rows, img_cols)\n",
    "        else:\n",
    "            data = dataset.data.reshape(dataset.data.shape[0], img_rows, img_cols, 1)\n",
    "            input_shape = (img_rows, img_cols, 1)\n",
    "\n",
    "\n",
    "        # 3. split data into training and test sets - 77% and 33% respectively\n",
    "        #  scaled data(X) between 0 and 1 / reduce images from the range [0, 255] to [0, 1.0], \n",
    "        # it is a common scaling technique - divide by 255.0\n",
    "        # represented/converted the target(y) to integer\n",
    "        (x_train, x_test, y_train, y_test) = train_test_split(data/255.0, \n",
    "                                                              dataset.target.astype(\"int\"), test_size=0.33)\n",
    "\n",
    "        # 4. Keras takes in the data type as float32, hence this step\n",
    "        # https://stackoverflow.com/questions/38066307/how-to-training-testing-without-make-all-of-the-data-float32-in-keras\n",
    "        x_train = x_train.astype('float32')\n",
    "        x_test = x_test.astype('float32')\n",
    "        # do this if not already done above.\n",
    "        # x_train /= 255\n",
    "        # x_test /= 255\n",
    "\n",
    "        # 5. convert categorical data to one hot encoded vector  \n",
    "        # convert class vectors to binary class matrices - one hot encoding\n",
    "        # np.utils.to_categorical is used to convert array of labeled data(from 0 to nb_classes-1) to one-hot vector.\n",
    "        # https://stackoverflow.com/questions/41494625/issues-using-keras-np-utils-to-categorical\n",
    "        y_train = keras.utils.to_categorical(y_train, num_classes)\n",
    "        y_test = keras.utils.to_categorical(y_test, num_classes)\n",
    "\n",
    "        print('x_train shape:', x_train.shape)\n",
    "        print(x_train.shape[0], 'train samples')\n",
    "        print(x_test.shape[0], 'test samples')\n",
    "        print('input_shape: ' + str(input_shape))\n",
    "        return x_train, x_test, y_train, y_test, input_shape\n",
    "\n",
    "    \n",
    "    @staticmethod\n",
    "    def get_model(input_shape, num_classes, weightsPath, save_model=True, arch_type='keras'):\n",
    "    \n",
    "        # 1. initialize architecture\n",
    "        if arch_type == 'keras':\n",
    "            model = LeNet.keras_build(input_shape, num_classes, weightsPath)\n",
    "        elif arch_type == 'pyimagesearch':\n",
    "            model = LeNet.pyimagesearch_build(input_shape, num_classes, weightsPath)\n",
    "        \n",
    "        # 2. get model\n",
    "        if (weightsPath is not None):\n",
    "            if os.path.isfile(weightsPath):\n",
    "                print('Model file present, loading model from existing file')\n",
    "        else:\n",
    "            print('Building model from scratch, no model file found')\n",
    "\n",
    "            # 2.a. compile model\n",
    "            model.compile(loss=keras.losses.categorical_crossentropy,\n",
    "                  optimizer=keras.optimizers.Adadelta(),\n",
    "                  metrics=['accuracy'])\n",
    "\n",
    "            # 2.b. fit model\n",
    "            model.fit(x_train, y_train,\n",
    "              batch_size=batch_size,\n",
    "              epochs=epochs,\n",
    "              verbose=True,\n",
    "              validation_data=(x_test, y_test))\n",
    "\n",
    "            # 2.c. evaluate model accuracy \n",
    "            loss, accuracy = model.evaluate(x_test, y_test, verbose=True)\n",
    "            print('Test loss:', loss)\n",
    "            print('Test accuracy:', accuracy)\n",
    "\n",
    "            # 2.d. Optionally save model weights\n",
    "            if save_model:\n",
    "                model_name = arch_type + '_lenet_weights.hdf5'\n",
    "                model.save_weights(model_name, overwrite=True)\n",
    "        \n",
    "        return model"
   ]
  },
  {
   "cell_type": "markdown",
   "metadata": {},
   "source": [
    "## Execute pipeline"
   ]
  },
  {
   "cell_type": "markdown",
   "metadata": {},
   "source": [
    "### 1. get train and test data"
   ]
  },
  {
   "cell_type": "code",
   "execution_count": 5,
   "metadata": {},
   "outputs": [
    {
     "name": "stdout",
     "output_type": "stream",
     "text": [
      "Downloaded dataset shape: (70000, 784)\n",
      "('x_train shape:', (46900, 28, 28, 1))\n",
      "(46900, 'train samples')\n",
      "(23100, 'test samples')\n",
      "input_shape: (28, 28, 1)\n"
     ]
    }
   ],
   "source": [
    "(x_train, x_test, y_train, y_test, input_shape) = Preprocess.prepare_data(num_classes)"
   ]
  },
  {
   "cell_type": "markdown",
   "metadata": {},
   "source": [
    "### 2. Build model"
   ]
  },
  {
   "cell_type": "code",
   "execution_count": 6,
   "metadata": {},
   "outputs": [
    {
     "name": "stdout",
     "output_type": "stream",
     "text": [
      "Building model from scratch, no model file found\n",
      "Train on 46900 samples, validate on 23100 samples\n",
      "Epoch 1/20\n",
      "46900/46900 [==============================] - 14s 305us/step - loss: 0.3563 - acc: 0.8862 - val_loss: 0.0958 - val_acc: 0.9713\n",
      "Epoch 2/20\n",
      "46900/46900 [==============================] - 13s 275us/step - loss: 0.1186 - acc: 0.9644 - val_loss: 0.0648 - val_acc: 0.9803\n",
      "Epoch 3/20\n",
      "46900/46900 [==============================] - 13s 275us/step - loss: 0.0894 - acc: 0.9729 - val_loss: 0.0494 - val_acc: 0.9843\n",
      "Epoch 4/20\n",
      "46900/46900 [==============================] - 13s 271us/step - loss: 0.0745 - acc: 0.9781 - val_loss: 0.0475 - val_acc: 0.9858\n",
      "Epoch 5/20\n",
      "46900/46900 [==============================] - 13s 275us/step - loss: 0.0629 - acc: 0.9807 - val_loss: 0.0472 - val_acc: 0.9856\n",
      "Epoch 6/20\n",
      "46900/46900 [==============================] - 13s 272us/step - loss: 0.0573 - acc: 0.9820 - val_loss: 0.0370 - val_acc: 0.9885\n",
      "Epoch 7/20\n",
      "46900/46900 [==============================] - 13s 273us/step - loss: 0.0519 - acc: 0.9843 - val_loss: 0.0376 - val_acc: 0.9892\n",
      "Epoch 8/20\n",
      "46900/46900 [==============================] - 13s 274us/step - loss: 0.0463 - acc: 0.9858 - val_loss: 0.0359 - val_acc: 0.9893\n",
      "Epoch 9/20\n",
      "46900/46900 [==============================] - 13s 276us/step - loss: 0.0422 - acc: 0.9871 - val_loss: 0.0342 - val_acc: 0.9897\n",
      "Epoch 10/20\n",
      "46900/46900 [==============================] - 13s 271us/step - loss: 0.0395 - acc: 0.9880 - val_loss: 0.0346 - val_acc: 0.9889\n",
      "Epoch 11/20\n",
      "46900/46900 [==============================] - 13s 273us/step - loss: 0.0395 - acc: 0.9877 - val_loss: 0.0341 - val_acc: 0.9899\n",
      "Epoch 12/20\n",
      "46900/46900 [==============================] - 13s 274us/step - loss: 0.0341 - acc: 0.9893 - val_loss: 0.0341 - val_acc: 0.9899\n",
      "Epoch 13/20\n",
      "46900/46900 [==============================] - 13s 273us/step - loss: 0.0326 - acc: 0.9895 - val_loss: 0.0309 - val_acc: 0.9909\n",
      "Epoch 14/20\n",
      "46900/46900 [==============================] - 13s 270us/step - loss: 0.0304 - acc: 0.9905 - val_loss: 0.0318 - val_acc: 0.9906\n",
      "Epoch 15/20\n",
      "46900/46900 [==============================] - 13s 274us/step - loss: 0.0284 - acc: 0.9912 - val_loss: 0.0306 - val_acc: 0.9910\n",
      "Epoch 16/20\n",
      "46900/46900 [==============================] - 13s 272us/step - loss: 0.0280 - acc: 0.9913 - val_loss: 0.0305 - val_acc: 0.9913\n",
      "Epoch 17/20\n",
      "46900/46900 [==============================] - 15s 327us/step - loss: 0.0270 - acc: 0.9918 - val_loss: 0.0379 - val_acc: 0.9895\n",
      "Epoch 18/20\n",
      "46900/46900 [==============================] - 16s 341us/step - loss: 0.0262 - acc: 0.9916 - val_loss: 0.0305 - val_acc: 0.9909\n",
      "Epoch 19/20\n",
      "46900/46900 [==============================] - 13s 283us/step - loss: 0.0245 - acc: 0.9923 - val_loss: 0.0330 - val_acc: 0.9910\n",
      "Epoch 20/20\n",
      "46900/46900 [==============================] - 14s 289us/step - loss: 0.0256 - acc: 0.9922 - val_loss: 0.0299 - val_acc: 0.9912\n",
      "23100/23100 [==============================] - 4s 187us/step\n",
      "('Test loss:', 0.02991965120971176)\n",
      "('Test accuracy:', 0.9911688311688311)\n"
     ]
    }
   ],
   "source": [
    "model = Preprocess.get_model(input_shape, num_classes, None)"
   ]
  },
  {
   "cell_type": "markdown",
   "metadata": {},
   "source": [
    "### 3. Test model - make predictions"
   ]
  },
  {
   "cell_type": "code",
   "execution_count": 7,
   "metadata": {
    "scrolled": false
   },
   "outputs": [
    {
     "name": "stdout",
     "output_type": "stream",
     "text": [
      "[INFO] Predicted: 0, Actual: 0\n"
     ]
    },
    {
     "data": {
      "image/png": "[encoded data removed]",
      "text/plain": [
       "<Figure size 432x288 with 1 Axes>"
      ]
     },
     "metadata": {},
     "output_type": "display_data"
    },
    {
     "name": "stdout",
     "output_type": "stream",
     "text": [
      "[INFO] Predicted: 7, Actual: 7\n"
     ]
    },
    {
     "data": {
      "image/png": "[encoded data removed]",
      "text/plain": [
       "<Figure size 432x288 with 1 Axes>"
      ]
     },
     "metadata": {},
     "output_type": "display_data"
    },
    {
     "name": "stdout",
     "output_type": "stream",
     "text": [
      "[INFO] Predicted: 7, Actual: 7\n"
     ]
    },
    {
     "data": {
      "image/png": "[encoded data removed]",
      "text/plain": [
       "<Figure size 432x288 with 1 Axes>"
      ]
     },
     "metadata": {},
     "output_type": "display_data"
    },
    {
     "name": "stdout",
     "output_type": "stream",
     "text": [
      "[INFO] Predicted: 2, Actual: 2\n"
     ]
    },
    {
     "data": {
      "image/png": "[encoded data removed]",
      "text/plain": [
       "<Figure size 432x288 with 1 Axes>"
      ]
     },
     "metadata": {},
     "output_type": "display_data"
    },
    {
     "name": "stdout",
     "output_type": "stream",
     "text": [
      "[INFO] Predicted: 9, Actual: 9\n"
     ]
    },
    {
     "data": {
      "image/png": "[encoded data removed]",
      "text/plain": [
       "<Figure size 432x288 with 1 Axes>"
      ]
     },
     "metadata": {},
     "output_type": "display_data"
    },
    {
     "name": "stdout",
     "output_type": "stream",
     "text": [
      "[INFO] Predicted: 1, Actual: 1\n"
     ]
    },
    {
     "data": {
      "image/png": "[encoded data removed]",
      "text/plain": [
       "<Figure size 432x288 with 1 Axes>"
      ]
     },
     "metadata": {},
     "output_type": "display_data"
    },
    {
     "name": "stdout",
     "output_type": "stream",
     "text": [
      "[INFO] Predicted: 9, Actual: 9\n"
     ]
    },
    {
     "data": {
      "image/png": "[encoded data removed]",
      "text/plain": [
       "<Figure size 432x288 with 1 Axes>"
      ]
     },
     "metadata": {},
     "output_type": "display_data"
    },
    {
     "name": "stdout",
     "output_type": "stream",
     "text": [
      "[INFO] Predicted: 7, Actual: 7\n"
     ]
    },
    {
     "data": {
      "image/png": "[encoded data removed]",
      "text/plain": [
       "<Figure size 432x288 with 1 Axes>"
      ]
     },
     "metadata": {},
     "output_type": "display_data"
    },
    {
     "name": "stdout",
     "output_type": "stream",
     "text": [
      "[INFO] Predicted: 2, Actual: 2\n"
     ]
    },
    {
     "data": {
      "image/png": "[encoded data removed]",
      "text/plain": [
       "<Figure size 432x288 with 1 Axes>"
      ]
     },
     "metadata": {},
     "output_type": "display_data"
    },
    {
     "name": "stdout",
     "output_type": "stream",
     "text": [
      "[INFO] Predicted: 8, Actual: 8\n"
     ]
    },
    {
     "data": {
      "image/png": "[encoded data removed]",
      "text/plain": [
       "<Figure size 432x288 with 1 Axes>"
      ]
     },
     "metadata": {},
     "output_type": "display_data"
    }
   ],
   "source": [
    "# randomly select a few testing digits\n",
    "for i in np.random.choice(np.arange(0, len(y_test)), size=(10,)):\n",
    "    # classify the digit\n",
    "    # in the original code, x_test[np.newaxis, i] has been done in order\n",
    "    # match the dimensions of the training sample\n",
    "    # it should be model.predict(x_test[i, np.newaxis]) instead\n",
    "    # because the backend Tensorflow expects channel to be the last\n",
    "    # probs = model.predict(x_test[np.newaxis, i])\n",
    "    probs = model.predict(x_test[i, np.newaxis])\n",
    "    \n",
    "    # finding what digit has the maximum probability\n",
    "    prediction = probs.argmax(axis=1)\n",
    "    \n",
    "    \n",
    "    # resize the image from a 28 x 28 image to a 96 x 96 image so we\n",
    "    # can better see it\n",
    "    # originally there was some issue with this line\n",
    "    # image = (x_test[i][0] * 255).astype(\"uint8\")\n",
    "    \n",
    "    # corrected line\n",
    "    image = (x_test[i] * 255).astype(\"uint8\")\n",
    "    # making a 3-channel image\n",
    "    image = cv2.merge([image] * 3)\n",
    "    image = cv2.resize(image, (96, 96), interpolation=cv2.INTER_LINEAR)\n",
    "    cv2.putText(image, str(prediction[0]), (5, 20), cv2.FONT_HERSHEY_SIMPLEX, 0.75, (0, 255, 0), 2)\n",
    "\n",
    "    # show the image and prediction\n",
    "    print(\"[INFO] Predicted: {}, Actual: {}\".format(prediction[0], np.argmax(y_test[i])))\n",
    "    plt.imshow(image)\n",
    "    plt.axis('off')\n",
    "    plt.show()\n",
    "    # cv2.imshow(\"Digit\", image)\n",
    "    # cv2.waitKey(0)\n",
    "# cv2.destroyAllWindows()"
   ]
  }
 ],
 "metadata": {
  "kernelspec": {
   "display_name": "Python 2",
   "language": "python",
   "name": "python2"
  },
  "language_info": {
   "codemirror_mode": {
    "name": "ipython",
    "version": 2
   },
   "file_extension": ".py",
   "mimetype": "text/x-python",
   "name": "python",
   "nbconvert_exporter": "python",
   "pygments_lexer": "ipython2",
   "version": "2.7.12"
  }
 },
 "nbformat": 4,
 "nbformat_minor": 2
}
