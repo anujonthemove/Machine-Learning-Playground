{
 "cells": [
  {
   "cell_type": "markdown",
   "metadata": {},
   "source": [
    "# Simple Linear Regression | Univariate Linear Regression | Linear Regression in one variable\n",
    "\n",
    "**Update! Aug'18**\n",
    "\n",
    "Exploring Simple Linear Regression using ***analytical or closed-form math solution.***\n",
    "\n",
    "** Linear model: **  $ y = \\beta_0 + \\beta_1x $\n",
    "\n",
    "In the above equation, what does each term represent?\n",
    "* $y$ is the __response or dependent__ variable\n",
    "* $x$ is the __feature or independent__ variable\n",
    "* $\\beta_0$ is the __intercept__\n",
    "* $\\beta_1$ is the __coefficient of x or slope__ of the regression line\n",
    "\n",
    "**Objective: ** Estimate model parameters (β0 and β1) using the analytical solution. \n",
    "\n",
    "**Dataset(original link): ** [Sweden Auto Insurance data - broken](https://www.math.muni.cz/~kolacek/docs/frvs/M7222Q/data/AutoInsurSweden.txt)\n",
    "\n",
    "- ___The original link for downloading data no longer exists however, the data can be found on the link below.___\n",
    "\n",
    "**Dataset(New link): ** [Sweden Auto Insurance data - personal upload](https://data.world/anujonthemove/auto-insurance-in-sweden)\n",
    "\n",
    "\n",
    "Author: Anuj Khandelwal (@anujonthemove)"
   ]
  },
  {
   "cell_type": "markdown",
   "metadata": {},
   "source": [
    "## Predicting payment for auto insurance claims in Sweden.\n",
    "\n",
    "* The purpose of this notebook is to predict the total payment for all claims (in thousands of Swedish Kronor), given the total number of claims.\n",
    "\n",
    "* This is a supervised, regression problem.\n",
    "    * **Supervised** - Target variable are included in the dataset.\n",
    "    *  **Regression** - The target variable is continuous.\n",
    "\n",
    "**Note:** ***Exploratory data analysis*** has been carried out [here](EDA-Auto-Insurance-in-Sweden.ipynb) in a separate notebook"
   ]
  },
  {
   "cell_type": "markdown",
   "metadata": {},
   "source": [
    "## Imports"
   ]
  },
  {
   "cell_type": "code",
   "execution_count": 1,
   "metadata": {},
   "outputs": [],
   "source": [
    "import numpy as np\n",
    "import pandas as pd\n",
    "import matplotlib\n",
    "import matplotlib.pyplot as plt\n",
    "%matplotlib inline\n",
    "plt.style.use('ggplot')\n",
    "\n",
    "import seaborn as sns\n",
    "sns.set_style('darkgrid')\n",
    "\n",
    "import pylab \n",
    "import scipy.stats as stats"
   ]
  },
  {
   "cell_type": "markdown",
   "metadata": {},
   "source": [
    "## Utility functions"
   ]
  },
  {
   "cell_type": "code",
   "execution_count": 2,
   "metadata": {},
   "outputs": [],
   "source": [
    "# function to split data\n",
    "def split_data(data):\n",
    "    # converting dataframe objects to numpy arrays for easier math\n",
    "    return np.array(data.iloc[:, 0:1]), np.array(data.iloc[:, 1:2])  "
   ]
  },
  {
   "cell_type": "code",
   "execution_count": 3,
   "metadata": {},
   "outputs": [],
   "source": [
    "# calculation of model coefficients b0 and b1\n",
    "def estimateCoefficients(x, y):\n",
    "    \n",
    "    m_x = np.mean(x)\n",
    "    m_y = np.mean(y)\n",
    "    \n",
    "    # formula can be found at: http://www.public.iastate.edu/~alicia/stat328/Least%20Squares.pdf\n",
    "    # for derivation for this formula, check the wikipedia link in reference section\n",
    "    SSxy = np.sum((x-m_x)*(y-m_y)) # covariance of xy\n",
    "    SSxx = np.sum(np.power((x-m_x), 2)) # variance of x\n",
    "         \n",
    "    b1 = SSxy / SSxx\n",
    "    b0 = m_y - b1 * m_x\n",
    "    \n",
    "    return b0, b1"
   ]
  },
  {
   "cell_type": "code",
   "execution_count": 4,
   "metadata": {},
   "outputs": [],
   "source": [
    "# function to predict values on test data\n",
    "# a more optimized approach would be the vectorized version\n",
    "def predict(coeff, testData):\n",
    "    y_pred = []\n",
    "    for i in range(len(testData)):\n",
    "        y_pred.append(coeff[0] + coeff[1]*testData[i])\n",
    "    return y_pred"
   ]
  },
  {
   "cell_type": "markdown",
   "metadata": {},
   "source": [
    "## Load and prepare data"
   ]
  },
  {
   "cell_type": "code",
   "execution_count": 5,
   "metadata": {
    "scrolled": false
   },
   "outputs": [
    {
     "name": "stdout",
     "output_type": "stream",
     "text": [
      "('Dataset Shape', (63, 2))\n"
     ]
    },
    {
     "data": {
      "text/html": [
       "<div>\n",
       "<style scoped>\n",
       "    .dataframe tbody tr th:only-of-type {\n",
       "        vertical-align: middle;\n",
       "    }\n",
       "\n",
       "    .dataframe tbody tr th {\n",
       "        vertical-align: top;\n",
       "    }\n",
       "\n",
       "    .dataframe thead th {\n",
       "        text-align: right;\n",
       "    }\n",
       "</style>\n",
       "<table border=\"1\" class=\"dataframe\">\n",
       "  <thead>\n",
       "    <tr style=\"text-align: right;\">\n",
       "      <th></th>\n",
       "      <th>num_claims</th>\n",
       "      <th>total_payment</th>\n",
       "    </tr>\n",
       "  </thead>\n",
       "  <tbody>\n",
       "    <tr>\n",
       "      <th>0</th>\n",
       "      <td>108</td>\n",
       "      <td>392.5</td>\n",
       "    </tr>\n",
       "    <tr>\n",
       "      <th>1</th>\n",
       "      <td>19</td>\n",
       "      <td>46.2</td>\n",
       "    </tr>\n",
       "    <tr>\n",
       "      <th>2</th>\n",
       "      <td>13</td>\n",
       "      <td>15.7</td>\n",
       "    </tr>\n",
       "    <tr>\n",
       "      <th>3</th>\n",
       "      <td>124</td>\n",
       "      <td>422.2</td>\n",
       "    </tr>\n",
       "    <tr>\n",
       "      <th>4</th>\n",
       "      <td>40</td>\n",
       "      <td>119.4</td>\n",
       "    </tr>\n",
       "  </tbody>\n",
       "</table>\n",
       "</div>"
      ],
      "text/plain": [
       "   num_claims  total_payment\n",
       "0         108          392.5\n",
       "1          19           46.2\n",
       "2          13           15.7\n",
       "3         124          422.2\n",
       "4          40          119.4"
      ]
     },
     "execution_count": 5,
     "metadata": {},
     "output_type": "execute_result"
    }
   ],
   "source": [
    "# Load data using pandas read_csv helper\n",
    "data = pd.read_csv('../datasets/regression/univariate-regression/auto-insurance-data/auto_insurance_sweden.csv', sep=','\n",
    "                 , names=['num_claims', 'total_payment'], skiprows=1)\n",
    "print('Dataset Shape', data.shape)\n",
    "data.head()"
   ]
  },
  {
   "cell_type": "markdown",
   "metadata": {},
   "source": [
    "This dataset contains a total of 63 rows(observations) and 2 columns(features) including the target variable 'total payment'. It is clear from the above that both variables are continuous."
   ]
  },
  {
   "cell_type": "code",
   "execution_count": 6,
   "metadata": {},
   "outputs": [],
   "source": [
    "# Prepare data\n",
    "# Split the data set into feature vector (X) and target vector (y)\n",
    "X, y = split_data(data)"
   ]
  },
  {
   "cell_type": "markdown",
   "metadata": {},
   "source": [
    "## Checking assumptions of Linear Regression\n",
    "\n",
    "In order to apply linear regression, the data should qualify certain assumptions otherwise the linear models doesn't work as expected.\n",
    "\n",
    "While some of the assumptions can be checked without building model, remaining assumptions require model to be built once, calcluate __residuals__  and using these residuals to check the assumptions, therefore residual analysis becomes quintessential here.\n",
    "\n",
    "Assumptions based on residuals:\n",
    "\n",
    "* Linearity of residuals\n",
    "* Statistical Independence of residuals\n",
    "* Normal distribution of residuals\n",
    "* Constant variance or homoscedasticity of residuals\n",
    "\n",
    "I carried out an in-depth search on this topic and it turns out that there are a lot of things to be taken into account. I have tried to put many things in this notebook still, a many of the concepts are unexplored and are needed to be incorporated in this work in order to have a thorough understanding of Linear Regression model. Some of the links which I referred to learn are:\n",
    "\n",
    "* https://dziganto.github.io/data%20science/linear%20regression/machine%20learning/python/Linear-Regression-101-Assumptions-and-Evaluation/\n",
    "* http://statisticsbyjim.com/regression/ols-linear-regression-assumptions/\n",
    "* https://statistics.laerd.com/spss-tutorials/linear-regression-using-spss-statistics.php\n",
    "* http://docs.statwing.com/interpreting-residual-plots-to-improve-your-regression/#outlier-header\n",
    "* http://www.statisticssolutions.com/assumptions-of-linear-regression/\n",
    "* http://r-statistics.co/Assumptions-of-Linear-Regression.html\n",
    "* http://people.duke.edu/~rnau/testing.htm\n"
   ]
  },
  {
   "cell_type": "markdown",
   "metadata": {},
   "source": [
    "## Assumptions to be checked before building the model"
   ]
  },
  {
   "cell_type": "markdown",
   "metadata": {},
   "source": [
    "### Assumption #01: Both dependent(y) and independent(X) variables should be continuous. \n",
    "\n",
    "This is the most basic check that should be performed to check the applicability of Simple Linear Regression model.\n",
    "In this example, it is clear in the EDA step itself that both the variable involved are ___continuous___."
   ]
  },
  {
   "cell_type": "markdown",
   "metadata": {},
   "source": [
    "### Assumption #02: The relationship between the independent and dependent variable should be Linear.\n",
    "\n",
    " The linearity assumption can best be tested with scatter plots [5]."
   ]
  },
  {
   "cell_type": "code",
   "execution_count": 7,
   "metadata": {},
   "outputs": [
    {
     "data": {
      "image/png": "[encoded data removed]",
      "text/plain": [
       "<matplotlib.figure.Figure at 0x7ff0f7d672d0>"
      ]
     },
     "metadata": {},
     "output_type": "display_data"
    }
   ],
   "source": [
    "# Create a figure instance\n",
    "fig = plt.figure(1, figsize=(12, 10))\n",
    "\n",
    "# Create an axes instance\n",
    "ax = fig.add_subplot(111)\n",
    "\n",
    "# Create scatterplot\n",
    "ax.scatter(X, y)\n",
    "\n",
    "# Set common labels\n",
    "ax.set_xlabel('number of claims')\n",
    "ax.set_ylabel('total payments(in thousands)')\n",
    "\n",
    "ax.set_title('Sweden Auto Insurance Dataset');\n",
    "\n",
    "# Save the figure, if needed\n",
    "# fig.savefig('fig1.png', bbox_inches='tight')\n",
    "\n",
    "###### way to plot without subplots\n",
    "# plt.figure(figsize=(12, 10))\n",
    "# # plotting points as a scatter plot\n",
    "# plt.scatter(X, y)\n",
    " \n",
    "# # x-axis label\n",
    "# plt.xlabel('number of claims')\n",
    "# # frequency label\n",
    "# plt.ylabel('total payments(in thousands)')\n",
    "# # plot title\n",
    "# plt.title('Sweden Auto Insurance Dataset')\n",
    "# # showing legend\n",
    "# plt.legend()\n",
    " \n",
    "# # function to show the plot\n",
    "# plt.show()"
   ]
  },
  {
   "cell_type": "markdown",
   "metadata": {},
   "source": [
    "#### Interpretation \n",
    "In the scatter plot above, it can be seen that the response(y) and the predictor(X) variable have a linear relationship, therefore, the assumption is satisfied."
   ]
  },
  {
   "cell_type": "markdown",
   "metadata": {},
   "source": [
    "## Build model \n",
    "\n",
    "**Theory:** For linear model, the coefficients are estimated using the least squares criterion which means we find the best-fit line through the training data which minimizes the sum of squared residuals or \"sum of squared errors\".\n",
    "\n",
    "**(Train)** Build a linear model i.e., estimate or learn model coefficients: $\\beta_0$ and $\\beta_1$\n",
    "\n",
    "**(Predict)** Use the built model to predict total payments against the claims made. "
   ]
  },
  {
   "cell_type": "code",
   "execution_count": 8,
   "metadata": {},
   "outputs": [],
   "source": [
    "# split train and validation sets\n",
    "\n",
    "# train data\n",
    "X_train = X[:-5]\n",
    "y_train = y[:-5]\n",
    "\n",
    "# validation data: used to evaluate accuracy of the model\n",
    "# Accuracy check is best done using cross-validation but since the data is very small, \n",
    "# I have indeed set aside a few observation from the training data to evaluate the model. \n",
    "# The error function or the evaluation function used here is Root Mean Squared error (RMSE).\n",
    "X_val = X[-5:]\n",
    "y_val = y[-5:]"
   ]
  },
  {
   "cell_type": "code",
   "execution_count": 9,
   "metadata": {},
   "outputs": [],
   "source": [
    "# Estimate coefficients \n",
    "# train linear model on part dataset \n",
    "coeff = estimateCoefficients(X_train, y_train)"
   ]
  },
  {
   "cell_type": "markdown",
   "metadata": {},
   "source": [
    "## Plotting least squares regression line\n",
    "This shows how least square line (the coefficients for which we just estimated above) fits our data.\n",
    "\n",
    "* __Note:__ This step is not enough to assess the our model, we need to use the ___actual(y), predicted(y_pred) and 'residuals(y-y_pred)'___ to evaluate and improve our model. Essentially, we need to analyze Residuals."
   ]
  },
  {
   "cell_type": "code",
   "execution_count": 10,
   "metadata": {},
   "outputs": [
    {
     "data": {
      "image/png": "[encoded data removed]",
      "text/plain": [
       "<matplotlib.figure.Figure at 0x7ff0f7d952d0>"
      ]
     },
     "metadata": {},
     "output_type": "display_data"
    }
   ],
   "source": [
    "# Create a figure instance\n",
    "fig = plt.figure(1, figsize=(12, 10))\n",
    "\n",
    "# Create an axes instance\n",
    "ax = fig.add_subplot(111)\n",
    "\n",
    "# predicted response vector\n",
    "y_pred = coeff[0] + coeff[1]*X_train\n",
    "\n",
    "# Create scatterplot\n",
    "ax.scatter(X_train, y_train)\n",
    "ax.plot(X_train, y_pred, color=\"b\")\n",
    "\n",
    "# Set common labels\n",
    "ax.set_xlabel('number of claims')\n",
    "ax.set_ylabel('total payments(in thousands)')\n",
    "ax.set_title('Sweden Auto Insurance Dataset')\n",
    "\n",
    "plt.show()\n",
    "# Save the figure, if needed\n",
    "# fig.savefig('fig1.png', bbox_inches='tight')"
   ]
  },
  {
   "cell_type": "markdown",
   "metadata": {},
   "source": [
    "## Calculating Residuals"
   ]
  },
  {
   "cell_type": "code",
   "execution_count": 11,
   "metadata": {},
   "outputs": [],
   "source": [
    "# on training data\n",
    "y_pred_train = predict(coeff, X_train)\n",
    "residuals_train = y_train - y_pred_train\n",
    "\n",
    "# on validation data\n",
    "y_pred_val = predict(coeff, X_val)\n",
    "residuals_val = y_val - y_pred_val"
   ]
  },
  {
   "cell_type": "markdown",
   "metadata": {},
   "source": [
    "## Assumptions to be checked after building the model"
   ]
  },
  {
   "cell_type": "markdown",
   "metadata": {},
   "source": [
    "### Plot of residuals - needed for validating assumptions\n",
    "Many different interpretations can be carried out using residual analysis. \n",
    "Some of the assumptions and diagnosis have been stated below."
   ]
  },
  {
   "cell_type": "code",
   "execution_count": 12,
   "metadata": {},
   "outputs": [
    {
     "data": {
      "image/png": "[encoded data removed]",
      "text/plain": [
       "<matplotlib.figure.Figure at 0x7ff0f5c66350>"
      ]
     },
     "metadata": {},
     "output_type": "display_data"
    }
   ],
   "source": [
    "# sns.set(style=\"darkgrid\", rc={'figure.figsize':(12, 10)})\n",
    "sns.set(style=\"darkgrid\")\n",
    "# Create a figure instance\n",
    "fig = plt.figure(1, figsize=(12, 10))\n",
    "ax = fig.add_subplot(111)\n",
    "\n",
    "# Plot the residuals after fitting a linear model\n",
    "ax = sns.residplot(X_train.ravel(), y_train.ravel(), lowess=True, color=\"r\", \n",
    "                   line_kws={'color': 'blue', 'lw': 2, 'alpha': 0.8})"
   ]
  },
  {
   "cell_type": "code",
   "execution_count": 13,
   "metadata": {},
   "outputs": [],
   "source": [
    "# Other way to plot residuals using matplotlib\n",
    "# # Create a figure instance\n",
    "# fig = plt.figure(1, figsize=(12, 10))\n",
    "\n",
    "# # Create an axes instance\n",
    "# ax = fig.add_subplot(111)\n",
    "\n",
    "# ## plot of residuals\n",
    "\n",
    "# # plotting residual errors in training data\n",
    "# ax.scatter(y_pred_train, residuals_train, color = \"green\", label='Train data')\n",
    "\n",
    "# # plotting residual errors in test data\n",
    "# ax.scatter(y_pred_val, residuals_val, color = \"blue\", label = 'Validation data')\n",
    "\n",
    "# ## plotting line for zero residual error\n",
    "# ax.hlines(y = 0, xmin=0, xmax=np.max(y_train), linewidth = 2)\n",
    "\n",
    "# ## plotting legend\n",
    "# ax.legend(loc='upper right')\n",
    " \n",
    "# # Set common labels\n",
    "# ax.set_xlabel('Residuals')\n",
    "# ax.set_ylabel('Fitted values')\n",
    "# ax.set_title('Residual errors | Residuals vs Fitted')\n",
    "\n",
    "# plt.show()\n",
    "\n",
    "# # Save the figure, if needed\n",
    "# # fig.savefig('fig1.png', bbox_inches='tight')\n",
    "\n",
    "# Check this to plot a smooth curve partially using statsmodel library:\n",
    "\n",
    "# https://stackoverflow.com/questions/23784399/how-to-visualize-a-nonlinear-relationship-in-a-scatter-plot"
   ]
  },
  {
   "cell_type": "markdown",
   "metadata": {},
   "source": [
    "### Revisiting Assumption #02 - interpreting it with plot of residuals\n",
    "\n",
    "If there is a nonlinear pattern it gets very clear in the residual plots. You may be wondering why we bothered talking about finding a linear pattern again when we already saw it in the scatter plot above in __Assumption #2__. Well, that works well for low dimensional data as it is easy to visualize but how will you know if you have more than 2-3 features? ___The residual plot is a powerful tool in that case and something you should leverage often.___ [5]"
   ]
  },
  {
   "cell_type": "markdown",
   "metadata": {},
   "source": [
    "### Assumption #03: Check for outliers \n",
    "* It is important to __check for outliers since linear regression is sensitive to outlier effects__. In the above plot, we don't see any outliers therefore, we can safely say that the modle won't suffer due to outliers."
   ]
  },
  {
   "cell_type": "markdown",
   "metadata": {},
   "source": [
    "### Assumption #04: Check for Homoscedasticity of the residuals\n",
    "\n",
    "* __Homoscedasticity__ means the residuals are equal across the regression line or the variances along the best fit line should remain similar as we move along the line or the errors exhibit constant variance. \n",
    "\n",
    "* Heteroscedasticity, on the other hand, is what happens when errors show some sort of growth. The tell tale sign you have heteroscedasticity is a fan-like shape in your residual plot.\n",
    "\n",
    "* This doesn’t inherently create a problem, but it’s often an indicator that your model can be improved.\n",
    "\n",
    "* Why is this test still important?\n",
    "    - ___Standard errors, confidence intervals, and hypothesis tests rely on the assumption that errors are homoscedastic___. If this assumption is violated, you cannot trust values for the those metrics!\n",
    "\n",
    "#### Interpretation \n",
    "In the plot above, one can see that the assumption is satisfied by the data, i.e., the data is fit for linear regression, residuals are indeed homoscedastic. "
   ]
  },
  {
   "cell_type": "markdown",
   "metadata": {},
   "source": [
    "### Histogram of residuals - test of normality\n",
    "Plot a histogram of residuals determines that the residuals are Normally distributed. This is important for the linear case. [4]\n",
    "\n",
    "#### Interpretation \n",
    "The plot below shows that the data is approximately Normal (aka Gaussian)."
   ]
  },
  {
   "cell_type": "code",
   "execution_count": 14,
   "metadata": {},
   "outputs": [
    {
     "data": {
      "image/png": "[encoded data removed]",
      "text/plain": [
       "<matplotlib.figure.Figure at 0x7ff0f5c08810>"
      ]
     },
     "metadata": {},
     "output_type": "display_data"
    }
   ],
   "source": [
    "sns.set(style=\"darkgrid\")\n",
    "# Create a figure instance\n",
    "fig = plt.figure(1, figsize=(12, 10))\n",
    "ax = fig.add_subplot(111)\n",
    "\n",
    "# Plot the residuals after fitting a linear model\n",
    "ax = sns.distplot(residuals_train, color=\"blue\");"
   ]
  },
  {
   "cell_type": "markdown",
   "metadata": {},
   "source": [
    "### Is there any other way we can test Normality? Yes,  there is a Quantitative method to test for Normality\n",
    "\n",
    "The null hypothesis is that the residual distribution is Normally distributed (though we can see it above). \n",
    "In the test below, we can see since the p-value > 0.05, we cannot reject the null hypothesis. In other words, we can confidently say the residuals are Normally distributed."
   ]
  },
  {
   "cell_type": "code",
   "execution_count": 15,
   "metadata": {},
   "outputs": [
    {
     "name": "stdout",
     "output_type": "stream",
     "text": [
      "NormaltestResult(statistic=array([1.65118327]), pvalue=array([0.43797579]))\n"
     ]
    }
   ],
   "source": [
    "from scipy.stats import normaltest\n",
    "print(normaltest(residuals_train))"
   ]
  },
  {
   "cell_type": "markdown",
   "metadata": {},
   "source": [
    "### Normality Q-Q Plot\n",
    "\n",
    "Q-Q or quantile-quantile is a scatter plot which helps us validate the assumption of normal distribution. It uses standardized values of residuals to determine the normal distribution of errors. Ideally, this plot should show a straight line. A curved, distorted line suggests residuals have a non-normal distribution. []"
   ]
  },
  {
   "cell_type": "code",
   "execution_count": 16,
   "metadata": {},
   "outputs": [
    {
     "data": {
      "image/png": "[encoded data removed]",
      "text/plain": [
       "<matplotlib.figure.Figure at 0x7ff0f5c11890>"
      ]
     },
     "metadata": {},
     "output_type": "display_data"
    }
   ],
   "source": [
    "sns.set(style=\"darkgrid\")\n",
    "# Create a figure instance\n",
    "fig = plt.figure(1, figsize=(12, 10))\n",
    "ax = fig.add_subplot(111)\n",
    "\n",
    "# we may even want to standardize the residuals before making the probability plot\n",
    "# from sklearn import preprocessing\n",
    "# std_residuals_train = preprocessing.scale(residuals_train)\n",
    "\n",
    "# Plot the residuals after fitting a linear model\n",
    "ax = stats.probplot(residuals_train.ravel(), dist=\"norm\", plot=pylab)\n",
    "plt.show()"
   ]
  },
  {
   "cell_type": "markdown",
   "metadata": {},
   "source": [
    "## Model evaluation\n",
    "* Top 5 metrics for evaluating regression models: \n",
    "http://www.enlistq.com/top-5-metrics-evaluating-regression-models/\n",
    "* More on error metrics: \n",
    "https://dziganto.github.io/data%20science/linear%20regression/machine%20learning/python/Linear-Regression-101-Metrics/"
   ]
  },
  {
   "cell_type": "code",
   "execution_count": 17,
   "metadata": {},
   "outputs": [],
   "source": [
    "### Prediction on validation data\n",
    "y_val_pred = predict(coeff, X_val)"
   ]
  },
  {
   "cell_type": "markdown",
   "metadata": {},
   "source": [
    "#### 1. Explained Variance Score (EVS)"
   ]
  },
  {
   "cell_type": "code",
   "execution_count": 18,
   "metadata": {},
   "outputs": [
    {
     "name": "stdout",
     "output_type": "stream",
     "text": [
      "Explained Variance Score: 0.865109634557\n"
     ]
    }
   ],
   "source": [
    "explained_variance_score_val = (1 - (np.var(y_val - y_val_pred))/(np.var(y_val)))\n",
    "print('Explained Variance Score: {}'.format(explained_variance_score_val))\n",
    "\n",
    "# # can also be calculated using scikit learn\n",
    "# from sklearn.metrics import explained_variance_score\n",
    "# explained_variance_score(y_pred_val, y_val, multioutput='uniform_average')"
   ]
  },
  {
   "cell_type": "markdown",
   "metadata": {},
   "source": [
    "#### 2. Mean Absolute Error (MAE)"
   ]
  },
  {
   "cell_type": "code",
   "execution_count": 19,
   "metadata": {},
   "outputs": [
    {
     "name": "stdout",
     "output_type": "stream",
     "text": [
      "Mean Absolute Error: 59.0198557978\n"
     ]
    }
   ],
   "source": [
    "mean_absolute_error = np.mean((np.abs(y_val - y_val_pred)))\n",
    "print('Mean Absolute Error: {}'.format(mean_absolute_error))\n",
    "\n",
    "# # can also be calculated using scikit learn\n",
    "# from sklearn.metrics import mean_absolute_error\n",
    "# mean_absolute_error(y_val, y_val_pred)"
   ]
  },
  {
   "cell_type": "markdown",
   "metadata": {},
   "source": [
    "#### 3. Mean Squared Error (MSE)"
   ]
  },
  {
   "cell_type": "code",
   "execution_count": 20,
   "metadata": {},
   "outputs": [
    {
     "name": "stdout",
     "output_type": "stream",
     "text": [
      "Mean Squared Error: 4014.8505904\n"
     ]
    }
   ],
   "source": [
    "mean_squared_error = np.mean((np.square(y_val - y_val_pred)))\n",
    "print('Mean Squared Error: {}'.format(mean_squared_error))\n",
    "\n",
    "# # can also be calculated using scikit learn\n",
    "# from sklearn.metrics import mean_squared_error\n",
    "# mean_squared_error(y_val, y_val_pred)"
   ]
  },
  {
   "cell_type": "markdown",
   "metadata": {},
   "source": [
    "#### 4. Root Mean Squared Error(RMSE)"
   ]
  },
  {
   "cell_type": "code",
   "execution_count": 21,
   "metadata": {},
   "outputs": [
    {
     "name": "stdout",
     "output_type": "stream",
     "text": [
      "Root Mean Squared Error: 63.3628486607\n"
     ]
    }
   ],
   "source": [
    "root_mean_squared_error = np.sqrt(np.mean((np.square(y_val - y_val_pred))))\n",
    "print('Root Mean Squared Error: {}'.format(root_mean_squared_error))\n",
    "\n",
    "# # CANNOT be calculated directly using scikit learn\n",
    "# from sklearn.metrics import mean_squared_error\n",
    "# np.sqrt(mean_squared_error(y_val, y_val_pred))"
   ]
  },
  {
   "cell_type": "markdown",
   "metadata": {},
   "source": [
    "**Interpretation:**\n",
    "\n",
    "It can be seen that RMSE value is large. It can be said that the model doesn't fit the data very well.\n",
    "\n",
    "This can be attributed to the fact that we have a very small dataset(63 rows) for training."
   ]
  },
  {
   "cell_type": "markdown",
   "metadata": {},
   "source": [
    "#### 5. R Squared Score (R2 Score)"
   ]
  },
  {
   "cell_type": "code",
   "execution_count": 22,
   "metadata": {},
   "outputs": [
    {
     "name": "stdout",
     "output_type": "stream",
     "text": [
      "R2 Score: -0.0189225114972\n"
     ]
    }
   ],
   "source": [
    "r2_score_val = (1-(np.sum(np.square(y_val - y_val_pred))/np.sum(np.square(y_val - np.mean(y_val)))))\n",
    "print('R2 Score: {}'.format(r2_score_val))\n",
    "\n",
    "# # can also be calculated using scikit learn\n",
    "# from sklearn.metrics import r2_score\n",
    "# r2_score(y_val, y_val_pred)"
   ]
  },
  {
   "cell_type": "markdown",
   "metadata": {},
   "source": [
    "#### 6. Adjusted R2 Score"
   ]
  },
  {
   "cell_type": "code",
   "execution_count": 23,
   "metadata": {},
   "outputs": [
    {
     "name": "stdout",
     "output_type": "stream",
     "text": [
      "Adjusted R2 score: -0.0371175563454\n"
     ]
    }
   ],
   "source": [
    "# n is sample size\n",
    "n = X_train.shape[0]\n",
    "# p is number of independent variables.\n",
    "p = X_train.shape[1]\n",
    "\n",
    "Adjusted_R2_score =  (1-(((1-r2_score_val)*((n-1))/(n-p-1))))\n",
    "print('Adjusted R2 score: {}'.format(Adjusted_R2_score))"
   ]
  },
  {
   "cell_type": "markdown",
   "metadata": {},
   "source": [
    "## Prediction\n",
    "Using the equation: $y_{pred} = b[0] + b[1]x $, we can make predictions for total payements (y) given claims (x). \n",
    "\n",
    "Unseen, new data is used here."
   ]
  },
  {
   "cell_type": "code",
   "execution_count": 24,
   "metadata": {},
   "outputs": [
    {
     "data": {
      "text/html": [
       "<div>\n",
       "<style scoped>\n",
       "    .dataframe tbody tr th:only-of-type {\n",
       "        vertical-align: middle;\n",
       "    }\n",
       "\n",
       "    .dataframe tbody tr th {\n",
       "        vertical-align: top;\n",
       "    }\n",
       "\n",
       "    .dataframe thead th {\n",
       "        text-align: right;\n",
       "    }\n",
       "</style>\n",
       "<table border=\"1\" class=\"dataframe\">\n",
       "  <thead>\n",
       "    <tr style=\"text-align: right;\">\n",
       "      <th></th>\n",
       "      <th>X_test</th>\n",
       "      <th>y_pred</th>\n",
       "    </tr>\n",
       "  </thead>\n",
       "  <tbody>\n",
       "    <tr>\n",
       "      <th>0</th>\n",
       "      <td>31</td>\n",
       "      <td>120.749100</td>\n",
       "    </tr>\n",
       "    <tr>\n",
       "      <th>1</th>\n",
       "      <td>14</td>\n",
       "      <td>63.532681</td>\n",
       "    </tr>\n",
       "    <tr>\n",
       "      <th>2</th>\n",
       "      <td>53</td>\n",
       "      <td>194.793876</td>\n",
       "    </tr>\n",
       "    <tr>\n",
       "      <th>3</th>\n",
       "      <td>26</td>\n",
       "      <td>103.920741</td>\n",
       "    </tr>\n",
       "    <tr>\n",
       "      <th>4</th>\n",
       "      <td>100</td>\n",
       "      <td>352.980444</td>\n",
       "    </tr>\n",
       "    <tr>\n",
       "      <th>5</th>\n",
       "      <td>120</td>\n",
       "      <td>420.293878</td>\n",
       "    </tr>\n",
       "    <tr>\n",
       "      <th>6</th>\n",
       "      <td>95</td>\n",
       "      <td>336.152086</td>\n",
       "    </tr>\n",
       "    <tr>\n",
       "      <th>7</th>\n",
       "      <td>200</td>\n",
       "      <td>689.547611</td>\n",
       "    </tr>\n",
       "  </tbody>\n",
       "</table>\n",
       "</div>"
      ],
      "text/plain": [
       "   X_test      y_pred\n",
       "0      31  120.749100\n",
       "1      14   63.532681\n",
       "2      53  194.793876\n",
       "3      26  103.920741\n",
       "4     100  352.980444\n",
       "5     120  420.293878\n",
       "6      95  336.152086\n",
       "7     200  689.547611"
      ]
     },
     "execution_count": 24,
     "metadata": {},
     "output_type": "execute_result"
    }
   ],
   "source": [
    "# unseen test data set\n",
    "X_test = np.array([31, 14, 53, 26, 100, 120, 95, 200])\n",
    "\n",
    "# make predictions on new data using the coefficients obtained above\n",
    "y_pred_val = predict(coeff, X_test)\n",
    "pd.DataFrame({'X_test': X_test, 'y_pred': y_pred_val})"
   ]
  },
  {
   "cell_type": "markdown",
   "metadata": {},
   "source": [
    "## Observation\n",
    "* statsmodel and seaborn library have best support for linear regression, therefore, it's not a great idea to re-invent the wheel using matplotlib."
   ]
  },
  {
   "cell_type": "markdown",
   "metadata": {},
   "source": [
    "## More on plots\n",
    "1. https://www.analyticsvidhya.com/blog/2016/07/deeper-regression-analysis-assumptions-plots-solutions/\n",
    "2. https://stats.stackexchange.com/questions/76226/interpreting-the-residuals-vs-fitted-values-plot-for-verifying-the-assumptions\n",
    "3. https://medium.com/@emredjan/emulating-r-regression-plots-in-python-43741952c034\n",
    "4. https://data.library.virginia.edu/diagnostic-plots/\n",
    "5. https://www.youtube.com/watch?v=EB5a_vENd5Q\n",
    "6. https://www.analyticsvidhya.com/blog/2013/12/residual-plots-regression-model/\n",
    "7. https://www.r-bloggers.com/model-validation-interpreting-residual-plots/\n",
    "8. https://www.wellbeingatschool.org.nz/information-sheet/understanding-and-interpreting-box-plots - box plot interpretation\n",
    "9. https://blog.modeanalytics.com/violin-plot-examples/ - interpretation of violin plot"
   ]
  },
  {
   "cell_type": "markdown",
   "metadata": {},
   "source": [
    "## References\n",
    "1. http://machinelearningmastery.com/implement-simple-linear-regression-scratch-python/\n",
    "2. https://en.wikipedia.org/wiki/Simple_linear_regression\n",
    "3. https://github.com/justmarkham/DAT4/blob/master/notebooks/08_linear_regression.ipynb\n",
    "4. https://dziganto.github.io/data%20science/linear%20regression/machine%20learning/python/Linear-Regression-101-Assumptions-and-Evaluation/\n",
    "5. http://www.statisticssolutions.com/assumptions-of-linear-regression/\n",
    "6. https://www.analyticsvidhya.com/blog/2015/10/regression-python-beginners/ - best explained how we can visualize the variance of one variable with other using VENN graph\n",
    "7. https://www.kaggle.com/dprater513/eda-basic-linear-regression\n",
    "8. https://college.cengage.com/mathematics/brase/understandable_statistics/7e/students/datasets/slr/frames/slr06.html\n",
    "9. https://www.math.muni.cz/~kolacek/docs/frvs/M7222/data/AutoInsurSweden.txt\n",
    "10. https://github.com/RishiSD/Linear-regression-on-Swedish-Auto-Insurance-dataset/blob/master/Swedish%20Auto%20Insurance.ipynb"
   ]
  },
  {
   "cell_type": "code",
   "execution_count": null,
   "metadata": {},
   "outputs": [],
   "source": []
  }
 ],
 "metadata": {
  "kernelspec": {
   "display_name": "Python 2",
   "language": "python",
   "name": "python2"
  },
  "language_info": {
   "codemirror_mode": {
    "name": "ipython",
    "version": 2
   },
   "file_extension": ".py",
   "mimetype": "text/x-python",
   "name": "python",
   "nbconvert_exporter": "python",
   "pygments_lexer": "ipython2",
   "version": "2.7.12"
  }
 },
 "nbformat": 4,
 "nbformat_minor": 2
}
