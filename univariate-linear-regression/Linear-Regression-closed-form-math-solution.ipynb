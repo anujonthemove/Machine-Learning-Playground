{
 "cells": [
  {
   "cell_type": "markdown",
   "metadata": {},
   "source": [
    "# Simple Linear Regression - closed-form math solution\n",
    "\n",
    "Anuj Khandelwal (@anujonthemove)\n",
    "\n",
    "I just completed Week 1 lectures of Coursera Machine Learning course which was on Linear Regression with One Variable. While the lectures are use gradient descent learning algorithm, I wanted to implement what I already knew about linear regression - the ***closed-form math solution***.\n",
    "\n",
    "Simple linear regression or univariate linear regression or linear regression in one variable. <br>\n",
    "** Linear model: **  $ y = \\beta_0 + \\beta_1x $\n",
    "\n",
    "What does each term represent?\n",
    "* $y$ is the response or dependent variable\n",
    "* $x$ is the feature or independent variable\n",
    "* $\\beta_0$ is the intercept\n",
    "* $\\beta_1$ is the coefficient of x or slope of the regression line\n",
    "\n",
    "**Objective: ** Find Least Squares Estimates of model parameters (β0 and β1) using the closed-form math solution. \n",
    "\n",
    "**Dataset: ** [Sweden Auto Insurance data](https://www.math.muni.cz/~kolacek/docs/frvs/M7222Q/data/AutoInsurSweden.txt)\n",
    "\n",
    "**Task: ** Predict payment for auto insurance claims in Sweden. "
   ]
  },
  {
   "cell_type": "markdown",
   "metadata": {},
   "source": [
    "## 1. Imports"
   ]
  },
  {
   "cell_type": "code",
   "execution_count": 1,
   "metadata": {},
   "outputs": [],
   "source": [
    "import numpy as np\n",
    "import pandas as pd\n",
    "import matplotlib\n",
    "import matplotlib.pyplot as plt\n",
    "%matplotlib inline\n",
    "plt.style.use('ggplot')"
   ]
  },
  {
   "cell_type": "markdown",
   "metadata": {},
   "source": [
    "## 2. Utility functions"
   ]
  },
  {
   "cell_type": "code",
   "execution_count": 2,
   "metadata": {},
   "outputs": [],
   "source": [
    "def split_data(data):\n",
    "    return data.iloc[:, 0:1], data.iloc[:, 1:2]  "
   ]
  },
  {
   "cell_type": "code",
   "execution_count": 3,
   "metadata": {},
   "outputs": [],
   "source": [
    "# calculation of model coefficients b0 and b1\n",
    "def estimateCoefficients(x, y):\n",
    "    \n",
    "    m_x = np.mean(x)\n",
    "    m_y = np.mean(y)\n",
    "    \n",
    "    # formula can be found at: http://www.public.iastate.edu/~alicia/stat328/Least%20Squares.pdf\n",
    "    # for derivation for this formula, check the wikipedia link in reference section\n",
    "    SSxy = np.sum((x-m_x)*(y-m_y)) # covariance of xy\n",
    "    SSxx = np.sum(np.power((x-m_x), 2)) # variance of x\n",
    "         \n",
    "    b1 = SSxy / SSxx\n",
    "    b0 = m_y - b1 * m_x\n",
    "    \n",
    "    return b0, b1"
   ]
  },
  {
   "cell_type": "code",
   "execution_count": 4,
   "metadata": {},
   "outputs": [],
   "source": [
    "# Root-mean-squared-error metric / Error function\n",
    "def rmse(actual, predicted):\n",
    "    return np.sqrt(np.mean(np.sum(np.power(actual-predicted, 2)))) "
   ]
  },
  {
   "cell_type": "code",
   "execution_count": 5,
   "metadata": {},
   "outputs": [],
   "source": [
    "# function to predict values on test data\n",
    "# a more optimized version would be the vectorized version\n",
    "def predict(coeff, testData):\n",
    "    y_pred = []\n",
    "    for i in range(len(testData)):\n",
    "        y_pred.append(coeff[0] + coeff[1]*testData[i])\n",
    "    return y_pred"
   ]
  },
  {
   "cell_type": "markdown",
   "metadata": {},
   "source": [
    "## 3. Load data\n",
    "The data set contains two columns: \n",
    "* number of insurance claims (X)\n",
    "* total payments against the claims in thousands of Swedish Kronor for geographical zones in Sweden (y)"
   ]
  },
  {
   "cell_type": "code",
   "execution_count": 6,
   "metadata": {},
   "outputs": [
    {
     "name": "stdout",
     "output_type": "stream",
     "text": [
      "   num_claims  total_payment\n",
      "0         108          392.5\n",
      "1          19           46.2\n",
      "2          13           15.7\n",
      "3         124          422.2\n",
      "4          40          119.4\n"
     ]
    }
   ],
   "source": [
    "data = pd.read_csv('../datasets/regression/univariate-regression/auto-insurance-data/auto-insurance-sweden.csv', sep=','\n",
    "                 , names=['num_claims', 'total_payment'], skiprows=1)\n",
    "print(data.head())"
   ]
  },
  {
   "cell_type": "markdown",
   "metadata": {},
   "source": [
    "## 4. Descriptive statistics\n",
    "\n",
    "Given a dataset, a lot of things can be explored.\n",
    "Here, I have explored the following:\n",
    "\n",
    "* **count of rows and columns**\n",
    "* **dataset description using pd.describe():** _\"It generates descriptive statistics that summarize the central tendency, dispersion and shape of a dataset’s distribution, excluding NaN values.\"_\n",
    "* **box plot:** visualize descriptive statistics\n",
    "* **scatter plot:** to see if a linear relatioship exists between X and y"
   ]
  },
  {
   "cell_type": "markdown",
   "metadata": {},
   "source": [
    "### 4.a. Count of rows and columns"
   ]
  },
  {
   "cell_type": "code",
   "execution_count": 7,
   "metadata": {},
   "outputs": [
    {
     "name": "stdout",
     "output_type": "stream",
     "text": [
      "('rows: 63', 'cols: 2')\n"
     ]
    }
   ],
   "source": [
    "# rows and columns\n",
    "rows, cols = data.shape\n",
    "print(\"rows: {}\".format(rows), \"cols: {}\".format(cols))"
   ]
  },
  {
   "cell_type": "markdown",
   "metadata": {},
   "source": [
    "### 4.b. Dataset description using pd.describe()"
   ]
  },
  {
   "cell_type": "code",
   "execution_count": 8,
   "metadata": {},
   "outputs": [
    {
     "data": {
      "text/html": [
       "<div>\n",
       "<style scoped>\n",
       "    .dataframe tbody tr th:only-of-type {\n",
       "        vertical-align: middle;\n",
       "    }\n",
       "\n",
       "    .dataframe tbody tr th {\n",
       "        vertical-align: top;\n",
       "    }\n",
       "\n",
       "    .dataframe thead th {\n",
       "        text-align: right;\n",
       "    }\n",
       "</style>\n",
       "<table border=\"1\" class=\"dataframe\">\n",
       "  <thead>\n",
       "    <tr style=\"text-align: right;\">\n",
       "      <th></th>\n",
       "      <th>num_claims</th>\n",
       "      <th>total_payment</th>\n",
       "    </tr>\n",
       "  </thead>\n",
       "  <tbody>\n",
       "    <tr>\n",
       "      <th>count</th>\n",
       "      <td>63.000000</td>\n",
       "      <td>63.000000</td>\n",
       "    </tr>\n",
       "    <tr>\n",
       "      <th>mean</th>\n",
       "      <td>22.904762</td>\n",
       "      <td>98.187302</td>\n",
       "    </tr>\n",
       "    <tr>\n",
       "      <th>std</th>\n",
       "      <td>23.351946</td>\n",
       "      <td>87.327553</td>\n",
       "    </tr>\n",
       "    <tr>\n",
       "      <th>min</th>\n",
       "      <td>0.000000</td>\n",
       "      <td>0.000000</td>\n",
       "    </tr>\n",
       "    <tr>\n",
       "      <th>25%</th>\n",
       "      <td>7.500000</td>\n",
       "      <td>38.850000</td>\n",
       "    </tr>\n",
       "    <tr>\n",
       "      <th>50%</th>\n",
       "      <td>14.000000</td>\n",
       "      <td>73.400000</td>\n",
       "    </tr>\n",
       "    <tr>\n",
       "      <th>75%</th>\n",
       "      <td>29.000000</td>\n",
       "      <td>140.000000</td>\n",
       "    </tr>\n",
       "    <tr>\n",
       "      <th>max</th>\n",
       "      <td>124.000000</td>\n",
       "      <td>422.200000</td>\n",
       "    </tr>\n",
       "  </tbody>\n",
       "</table>\n",
       "</div>"
      ],
      "text/plain": [
       "       num_claims  total_payment\n",
       "count   63.000000      63.000000\n",
       "mean    22.904762      98.187302\n",
       "std     23.351946      87.327553\n",
       "min      0.000000       0.000000\n",
       "25%      7.500000      38.850000\n",
       "50%     14.000000      73.400000\n",
       "75%     29.000000     140.000000\n",
       "max    124.000000     422.200000"
      ]
     },
     "execution_count": 8,
     "metadata": {},
     "output_type": "execute_result"
    }
   ],
   "source": [
    "data.describe()"
   ]
  },
  {
   "cell_type": "markdown",
   "metadata": {},
   "source": [
    "### 4.c. Box plot"
   ]
  },
  {
   "cell_type": "markdown",
   "metadata": {},
   "source": [
    "#### Box plot - using matplotlib"
   ]
  },
  {
   "cell_type": "code",
   "execution_count": 9,
   "metadata": {},
   "outputs": [],
   "source": [
    "# # Create a figure instance\n",
    "# fig = plt.figure(1, figsize=(12, 10))\n",
    "\n",
    "# # Create an axes instance\n",
    "# ax = fig.add_subplot(111)\n",
    "\n",
    "# # Create the boxplot\n",
    "# bp = ax.boxplot(data.values, labels=['num_claims', 'total_payment'])\n",
    "\n",
    "# # Save the figure, if needed\n",
    "# # fig.savefig('fig1.png', bbox_inches='tight')"
   ]
  },
  {
   "cell_type": "markdown",
   "metadata": {},
   "source": [
    "#### Box plot - using pandas"
   ]
  },
  {
   "cell_type": "code",
   "execution_count": 10,
   "metadata": {},
   "outputs": [
    {
     "data": {
      "image/png": "[encoded data removed]",
      "text/plain": [
       "<Figure size 864x720 with 1 Axes>"
      ]
     },
     "metadata": {},
     "output_type": "display_data"
    }
   ],
   "source": [
    "# pd.options.display.mpl_style = 'default'\n",
    "data.boxplot(figsize=(12,10));"
   ]
  },
  {
   "cell_type": "markdown",
   "metadata": {},
   "source": [
    "#### Box plot interpretation:"
   ]
  },
  {
   "cell_type": "markdown",
   "metadata": {},
   "source": [
    "Pending"
   ]
  },
  {
   "cell_type": "markdown",
   "metadata": {},
   "source": [
    "### 4.d. Split data\n",
    "Split the data set into feature vector (X) and target vector (y)"
   ]
  },
  {
   "cell_type": "code",
   "execution_count": 11,
   "metadata": {},
   "outputs": [],
   "source": [
    "X_df, y_df = split_data(data)"
   ]
  },
  {
   "cell_type": "markdown",
   "metadata": {},
   "source": [
    "### 4.e. Scatter plot \n",
    "* this is an important step in linear regression. \n",
    "* it shows the relationship between dependent and independent variables"
   ]
  },
  {
   "cell_type": "code",
   "execution_count": 12,
   "metadata": {},
   "outputs": [
    {
     "data": {
      "image/png": "[encoded data removed]",
      "text/plain": [
       "<Figure size 864x720 with 1 Axes>"
      ]
     },
     "metadata": {},
     "output_type": "display_data"
    }
   ],
   "source": [
    "# Create a figure instance\n",
    "fig = plt.figure(1, figsize=(12, 10))\n",
    "\n",
    "# Create an axes instance\n",
    "ax = fig.add_subplot(111)\n",
    "\n",
    "# Create scatterplot\n",
    "ax.scatter(X_df, y_df)\n",
    "\n",
    "# Set common labels\n",
    "ax.set_xlabel('number of claims')\n",
    "ax.set_ylabel('total payments(in thousands)')\n",
    "\n",
    "ax.set_title('Sweden Auto Insurance Dataset');\n",
    "\n",
    "# Save the figure, if needed\n",
    "# fig.savefig('fig1.png', bbox_inches='tight')"
   ]
  },
  {
   "cell_type": "markdown",
   "metadata": {},
   "source": [
    "## 5. Build model \n",
    "\n",
    "**Theory:** For linear model, the coefficients are estimated using the least squares criterion which means we find the best-fit line through the training data which minimizes the sum of squared residuals or \"sum of squared errors\".\n",
    "\n",
    "**(Train)** Build a linear model i.e., estimate or learn model coefficients: $\\beta_0$ and $\\beta_1$\n",
    "\n",
    "**(Predict)** Use the built model to predict total payments against the claims made. "
   ]
  },
  {
   "cell_type": "code",
   "execution_count": 13,
   "metadata": {},
   "outputs": [],
   "source": [
    "# X and y are Dataframe objects, converting them to numpy arrays for easier math\n",
    "X = np.array(X_df)\n",
    "y = np.array(y_df)\n",
    "\n",
    "# split train and validation sets\n",
    "\n",
    "# train data\n",
    "X_train = X[:-5]\n",
    "y_train = y[:-5]\n",
    "\n",
    "# validation data: used to evaluate accuracy of the model\n",
    "# Accuracy check is best done using cross-validation but since the data is very small, \n",
    "# I have indeed set aside a few observation from the training data to evaluate the model. \n",
    "# The error function or the evaluation function used here is Root Mean Squared error (RMSE).\n",
    "X_val = X[-5:]\n",
    "y_val = y[-5:]"
   ]
  },
  {
   "cell_type": "code",
   "execution_count": 14,
   "metadata": {},
   "outputs": [],
   "source": [
    "# train linear model on part dataset (estimate coefficients)\n",
    "coeff = estimateCoefficients(X_train, y_train)"
   ]
  },
  {
   "cell_type": "markdown",
   "metadata": {},
   "source": [
    "## 6. Plotting least squares regression line\n",
    "This shows how least square line (the coefficients for which we just estimated above) fits our data."
   ]
  },
  {
   "cell_type": "code",
   "execution_count": 15,
   "metadata": {},
   "outputs": [
    {
     "data": {
      "image/png": "[encoded data removed]",
      "text/plain": [
       "<Figure size 864x720 with 1 Axes>"
      ]
     },
     "metadata": {},
     "output_type": "display_data"
    }
   ],
   "source": [
    "# Create a figure instance\n",
    "fig = plt.figure(1, figsize=(12, 10))\n",
    "\n",
    "# Create an axes instance\n",
    "ax = fig.add_subplot(111)\n",
    "\n",
    "# predicted response vector\n",
    "y_pred = coeff[0] + coeff[1]*X_train\n",
    "\n",
    "# Create scatterplot\n",
    "ax.scatter(X_train, y_train)\n",
    "ax.plot(X_train, y_pred, color=\"b\")\n",
    "\n",
    "# Set common labels\n",
    "ax.set_xlabel('number of claims')\n",
    "ax.set_ylabel('total payments(in thousands)')\n",
    "ax.set_title('Sweden Auto Insurance Dataset');\n",
    "\n",
    "# Save the figure, if needed\n",
    "# fig.savefig('fig1.png', bbox_inches='tight')"
   ]
  },
  {
   "cell_type": "markdown",
   "metadata": {},
   "source": [
    "## 7. Root Mean Squared Error(RMSE)"
   ]
  },
  {
   "cell_type": "code",
   "execution_count": 16,
   "metadata": {},
   "outputs": [
    {
     "name": "stdout",
     "output_type": "stream",
     "text": [
      "RMSE value on test data: 141.683636853\n"
     ]
    }
   ],
   "source": [
    "# Root Mean Squared Error value\n",
    "predictions = predict(coeff, X_val)\n",
    "rmse_val = rmse(y_val, np.array(predictions))\n",
    "print(\"RMSE value on test data: {}\".format(rmse_val))"
   ]
  },
  {
   "cell_type": "markdown",
   "metadata": {},
   "source": [
    "**Interpretation:**\n",
    "\n",
    "It can be seen that RMSE value is large. It can be said that the model doesn't fit the data very well.\n",
    "\n",
    "This can be attributed to the fact that we have a very small dataset(63 rows) for training."
   ]
  },
  {
   "cell_type": "markdown",
   "metadata": {},
   "source": [
    "## 8. Prediction\n",
    "Using the equation: $y_{pred} = b[0] + b[1]x $, we can make predictions for total payements (y) given claims (x). \n",
    "\n",
    "Unseen, new data is used here."
   ]
  },
  {
   "cell_type": "code",
   "execution_count": 17,
   "metadata": {},
   "outputs": [
    {
     "data": {
      "text/html": [
       "<div>\n",
       "<style scoped>\n",
       "    .dataframe tbody tr th:only-of-type {\n",
       "        vertical-align: middle;\n",
       "    }\n",
       "\n",
       "    .dataframe tbody tr th {\n",
       "        vertical-align: top;\n",
       "    }\n",
       "\n",
       "    .dataframe thead th {\n",
       "        text-align: right;\n",
       "    }\n",
       "</style>\n",
       "<table border=\"1\" class=\"dataframe\">\n",
       "  <thead>\n",
       "    <tr style=\"text-align: right;\">\n",
       "      <th></th>\n",
       "      <th>X_test</th>\n",
       "      <th>y_pred</th>\n",
       "    </tr>\n",
       "  </thead>\n",
       "  <tbody>\n",
       "    <tr>\n",
       "      <th>0</th>\n",
       "      <td>31</td>\n",
       "      <td>120.749100</td>\n",
       "    </tr>\n",
       "    <tr>\n",
       "      <th>1</th>\n",
       "      <td>14</td>\n",
       "      <td>63.532681</td>\n",
       "    </tr>\n",
       "    <tr>\n",
       "      <th>2</th>\n",
       "      <td>53</td>\n",
       "      <td>194.793876</td>\n",
       "    </tr>\n",
       "    <tr>\n",
       "      <th>3</th>\n",
       "      <td>26</td>\n",
       "      <td>103.920741</td>\n",
       "    </tr>\n",
       "    <tr>\n",
       "      <th>4</th>\n",
       "      <td>100</td>\n",
       "      <td>352.980444</td>\n",
       "    </tr>\n",
       "    <tr>\n",
       "      <th>5</th>\n",
       "      <td>120</td>\n",
       "      <td>420.293878</td>\n",
       "    </tr>\n",
       "    <tr>\n",
       "      <th>6</th>\n",
       "      <td>95</td>\n",
       "      <td>336.152086</td>\n",
       "    </tr>\n",
       "    <tr>\n",
       "      <th>7</th>\n",
       "      <td>200</td>\n",
       "      <td>689.547611</td>\n",
       "    </tr>\n",
       "  </tbody>\n",
       "</table>\n",
       "</div>"
      ],
      "text/plain": [
       "   X_test      y_pred\n",
       "0      31  120.749100\n",
       "1      14   63.532681\n",
       "2      53  194.793876\n",
       "3      26  103.920741\n",
       "4     100  352.980444\n",
       "5     120  420.293878\n",
       "6      95  336.152086\n",
       "7     200  689.547611"
      ]
     },
     "execution_count": 17,
     "metadata": {},
     "output_type": "execute_result"
    }
   ],
   "source": [
    "# unseen test data set\n",
    "X_test = [31, 14, 53, 26, 100, 120, 95, 200]\n",
    "\n",
    "# make predictions on new data using the coefficients obtained above\n",
    "y_pred = predict(coeff, X_test)\n",
    "pd.DataFrame({'X_test': X_test, 'y_pred': y_pred})"
   ]
  },
  {
   "cell_type": "markdown",
   "metadata": {},
   "source": [
    "## References:\n",
    "1. http://machinelearningmastery.com/implement-simple-linear-regression-scratch-python/\n",
    "2. https://en.wikipedia.org/wiki/Simple_linear_regression\n",
    "3. https://github.com/justmarkham/DAT4/blob/master/notebooks/08_linear_regression.ipynb"
   ]
  }
 ],
 "metadata": {
  "kernelspec": {
   "display_name": "Python 2",
   "language": "python",
   "name": "python2"
  },
  "language_info": {
   "codemirror_mode": {
    "name": "ipython",
    "version": 2
   },
   "file_extension": ".py",
   "mimetype": "text/x-python",
   "name": "python",
   "nbconvert_exporter": "python",
   "pygments_lexer": "ipython2",
   "version": "2.7.12"
  }
 },
 "nbformat": 4,
 "nbformat_minor": 2
}
