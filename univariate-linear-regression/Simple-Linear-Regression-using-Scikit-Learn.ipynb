{
 "cells": [
  {
   "cell_type": "markdown",
   "metadata": {},
   "source": [
    "# Simple Linear Regression - using Scikit Learn\n",
    "\n",
    "**Update! Aug'18**\n",
    "\n",
    "Exploring Simple Linear Regression using ***scikit learn***\n",
    "\n",
    "** Linear model: **  $ y = \\beta_0 + \\beta_1x $\n",
    "\n",
    "In the above equation, what does each term represent?\n",
    "* $y$ is the __response or dependent__ variable\n",
    "* $x$ is the __feature or independent__ variable\n",
    "* $\\beta_0$ is the __intercept__\n",
    "* $\\beta_1$ is the __coefficient of x or slope__ of the regression line\n",
    "\n",
    "**Objective: ** Estimate model parameters (β0 and β1) using the analytical solution. \n",
    "\n",
    "**Dataset(original link): ** [Sweden Auto Insurance data - broken](https://www.math.muni.cz/~kolacek/docs/frvs/M7222Q/data/AutoInsurSweden.txt)\n",
    "\n",
    "- ___The original link for downloading data no longer exists however, the data can be found on the link below.___\n",
    "\n",
    "**Dataset(New link): ** [Sweden Auto Insurance data - personal upload](https://data.world/anujonthemove/auto-insurance-in-sweden)\n",
    "\n",
    "\n",
    "Author: Anuj Khandelwal (@anujonthemove)"
   ]
  },
  {
   "cell_type": "markdown",
   "metadata": {},
   "source": [
    "## Predicting payment for auto insurance claims in Sweden.\n",
    "\n",
    "* The purpose of this notebook is to predict the total payment for all claims (in thousands of Swedish Kronor), given the total number of claims.\n",
    "\n",
    "* This is a supervised, regression problem.\n",
    "    * **Supervised** - Target variable are included in the dataset.\n",
    "    *  **Regression** - The target variable is continuous.\n",
    "\n",
    "**Note:** ***Exploratory data analysis*** has been carried out [here](EDA-Auto-Insurance-in-Sweden.ipynb) in a separate notebook"
   ]
  },
  {
   "cell_type": "markdown",
   "metadata": {},
   "source": [
    "## Imports"
   ]
  },
  {
   "cell_type": "code",
   "execution_count": 1,
   "metadata": {},
   "outputs": [],
   "source": [
    "import numpy as np\n",
    "import pandas as pd\n",
    "import matplotlib\n",
    "import matplotlib.pyplot as plt\n",
    "%matplotlib inline\n",
    "plt.style.use('ggplot')\n",
    "\n",
    "import seaborn as sns\n",
    "sns.set_style('darkgrid')\n",
    "\n",
    "import pylab \n",
    "import scipy.stats as stats\n",
    "\n",
    "from sklearn.model_selection import train_test_split\n",
    "from sklearn import metrics\n",
    "from sklearn.model_selection import KFold\n",
    "from sklearn import linear_model"
   ]
  },
  {
   "cell_type": "markdown",
   "metadata": {},
   "source": [
    "## Utility functions"
   ]
  },
  {
   "cell_type": "code",
   "execution_count": 2,
   "metadata": {},
   "outputs": [],
   "source": [
    "# function to split data\n",
    "def split_data(data):\n",
    "    # converting dataframe objects to numpy arrays for easier math\n",
    "    return np.array(data.iloc[:, 0:1]), np.array(data.iloc[:, 1:2])  "
   ]
  },
  {
   "cell_type": "markdown",
   "metadata": {},
   "source": [
    "## Load and prepare data"
   ]
  },
  {
   "cell_type": "code",
   "execution_count": 3,
   "metadata": {},
   "outputs": [
    {
     "name": "stdout",
     "output_type": "stream",
     "text": [
      "('Dataset Shape', (63, 2))\n"
     ]
    },
    {
     "data": {
      "text/html": [
       "<div>\n",
       "<style scoped>\n",
       "    .dataframe tbody tr th:only-of-type {\n",
       "        vertical-align: middle;\n",
       "    }\n",
       "\n",
       "    .dataframe tbody tr th {\n",
       "        vertical-align: top;\n",
       "    }\n",
       "\n",
       "    .dataframe thead th {\n",
       "        text-align: right;\n",
       "    }\n",
       "</style>\n",
       "<table border=\"1\" class=\"dataframe\">\n",
       "  <thead>\n",
       "    <tr style=\"text-align: right;\">\n",
       "      <th></th>\n",
       "      <th>num_claims</th>\n",
       "      <th>total_payment</th>\n",
       "    </tr>\n",
       "  </thead>\n",
       "  <tbody>\n",
       "    <tr>\n",
       "      <th>0</th>\n",
       "      <td>108</td>\n",
       "      <td>392.5</td>\n",
       "    </tr>\n",
       "    <tr>\n",
       "      <th>1</th>\n",
       "      <td>19</td>\n",
       "      <td>46.2</td>\n",
       "    </tr>\n",
       "    <tr>\n",
       "      <th>2</th>\n",
       "      <td>13</td>\n",
       "      <td>15.7</td>\n",
       "    </tr>\n",
       "    <tr>\n",
       "      <th>3</th>\n",
       "      <td>124</td>\n",
       "      <td>422.2</td>\n",
       "    </tr>\n",
       "    <tr>\n",
       "      <th>4</th>\n",
       "      <td>40</td>\n",
       "      <td>119.4</td>\n",
       "    </tr>\n",
       "  </tbody>\n",
       "</table>\n",
       "</div>"
      ],
      "text/plain": [
       "   num_claims  total_payment\n",
       "0         108          392.5\n",
       "1          19           46.2\n",
       "2          13           15.7\n",
       "3         124          422.2\n",
       "4          40          119.4"
      ]
     },
     "execution_count": 3,
     "metadata": {},
     "output_type": "execute_result"
    }
   ],
   "source": [
    "# Load data using pandas read_csv helper\n",
    "data = pd.read_csv('../datasets/regression/univariate-regression/auto-insurance-data/auto_insurance_sweden.csv', sep=','\n",
    "                 , names=['num_claims', 'total_payment'], skiprows=1)\n",
    "print('Dataset Shape', data.shape)\n",
    "data.head()"
   ]
  },
  {
   "cell_type": "markdown",
   "metadata": {},
   "source": [
    "This dataset contains a total of 63 rows(observations) and 2 columns(features) including the target variable 'total payment'. It is clear from the above that both variables are continuous."
   ]
  },
  {
   "cell_type": "code",
   "execution_count": 4,
   "metadata": {},
   "outputs": [
    {
     "name": "stdout",
     "output_type": "stream",
     "text": [
      "(5, 1)\n"
     ]
    }
   ],
   "source": [
    "# Prepare data\n",
    "# Split the data set into feature vector (X) and target vector (y)\n",
    "X, y = split_data(data)\n",
    "print(X[0:5].shape)"
   ]
  },
  {
   "cell_type": "markdown",
   "metadata": {},
   "source": [
    "## Build model and calculate accuracy score\n",
    "\n",
    "We should never build the model on the whole data, instead the data should be split into three parts: training set, validation set, and testing set. \n",
    "\n",
    "Build model on the training set, use validation set to evaluate model and then finally use the test set to see how it predicts on unseen data to report model's accuracy."
   ]
  },
  {
   "cell_type": "code",
   "execution_count": 5,
   "metadata": {},
   "outputs": [],
   "source": [
    "# Build model\n",
    "regr_model = linear_model.LinearRegression(fit_intercept=True)"
   ]
  },
  {
   "cell_type": "markdown",
   "metadata": {},
   "source": [
    "### a. using train-test split\n",
    "Using this, we can conveniently partition the data into training and testing data and report model accuracy."
   ]
  },
  {
   "cell_type": "code",
   "execution_count": 6,
   "metadata": {},
   "outputs": [],
   "source": [
    "X_train, X_test, y_train, y_test = train_test_split(X, y, test_size=0.33, random_state=42, shuffle=True)"
   ]
  },
  {
   "cell_type": "code",
   "execution_count": 7,
   "metadata": {},
   "outputs": [
    {
     "name": "stdout",
     "output_type": "stream",
     "text": [
      "('RMSE for training set: ', 35.46606319676416)\n"
     ]
    }
   ],
   "source": [
    "regr_model.fit(X_train, y_train)\n",
    "y_pred = regr_model.predict(X_test)\n",
    "mse = metrics.mean_squared_error(y_pred, y_test)\n",
    "print('RMSE for training set: ', np.sqrt(mse))"
   ]
  },
  {
   "cell_type": "markdown",
   "metadata": {},
   "source": [
    "### b. using k-fold cross validation\n",
    "Using **k-fold cross validation** for model evaluation. \"Cross-validation is a technique to evaluate predictive models by partitioning the original sample into a training set to train the model, and a test set to evaluate it.\" <br>\n",
    "Source: [OpenML](https://www.openml.org/a/estimation-procedures/1)"
   ]
  },
  {
   "cell_type": "code",
   "execution_count": 8,
   "metadata": {
    "scrolled": false
   },
   "outputs": [
    {
     "name": "stdout",
     "output_type": "stream",
     "text": [
      "Mean RMSE: 35.4186871057\n",
      "Mean variance or R2 score: 0.595708647914\n"
     ]
    }
   ],
   "source": [
    "# initialize k-fold cross-validation with 2 splits\n",
    "kf = KFold(n_splits=10, shuffle=True)\n",
    "\n",
    "# split input data - this will only give use partition indices and not the actual data\n",
    "kf.get_n_splits(X)\n",
    "\n",
    "# create linear regression object\n",
    "# regr_model = linear_model.LinearRegression()\n",
    "\n",
    "results = []\n",
    "score = []\n",
    "from sklearn.metrics import r2_score\n",
    "test = []\n",
    "for train_index, test_index in kf.split(X):\n",
    "    y_pred = regr_model.fit(X[train_index], y[train_index]).predict(X[test_index])\n",
    "    results.append(np.sqrt(metrics.mean_squared_error(y[test_index], y_pred)))\n",
    "    # this is r^2 score based on residuals\n",
    "    score.append(regr_model.score(X[test_index], y[test_index]))\n",
    "    \n",
    "\n",
    "print(\"Mean RMSE: {}\".format(np.mean(results)))\n",
    "print(\"Mean variance or R2 score: {}\".format(np.mean(score)))"
   ]
  },
  {
   "cell_type": "markdown",
   "metadata": {},
   "source": [
    "### c. cross-validation score - an alternate way to calculate accuracy"
   ]
  },
  {
   "cell_type": "code",
   "execution_count": 9,
   "metadata": {},
   "outputs": [
    {
     "name": "stdout",
     "output_type": "stream",
     "text": [
      "Mean RMSE for Cross Validation : 35.634179\n"
     ]
    },
    {
     "name": "stderr",
     "output_type": "stream",
     "text": [
      "/home/anuj/.virtualenvs/video-analytics-2/local/lib/python2.7/site-packages/sklearn/cross_validation.py:41: DeprecationWarning: This module was deprecated in version 0.18 in favor of the model_selection module into which all the refactored classes and functions are moved. Also note that the interface of the new CV iterators are different from that of this module. This module will be removed in 0.20.\n",
      "  \"This module will be removed in 0.20.\", DeprecationWarning)\n"
     ]
    }
   ],
   "source": [
    "from sklearn.cross_validation import cross_val_score\n",
    "scores = cross_val_score(regr_model, X, y, cv=10, scoring='neg_mean_squared_error')\n",
    "print 'Mean RMSE for Cross Validation : %f' % (np.mean(np.sqrt(np.abs(scores))))"
   ]
  },
  {
   "cell_type": "markdown",
   "metadata": {},
   "source": [
    "## Residual analysis\n",
    "It is very important to go for residual analysis for model evaluation.\n",
    "\n",
    "**Note:** From here onwards, follow the notebook [Simple Linear Regression using Analytical Solution](Simple-Linear-Regression-using-Analytical-Solution.ipynb) for detailed residual analysis on this dataset. "
   ]
  },
  {
   "cell_type": "markdown",
   "metadata": {},
   "source": [
    "## Fit model on the entire dataset"
   ]
  },
  {
   "cell_type": "code",
   "execution_count": 10,
   "metadata": {},
   "outputs": [
    {
     "name": "stdout",
     "output_type": "stream",
     "text": [
      "Coefficients: [[3.43632166]]\n",
      "Intercept: [18.44018959]\n"
     ]
    }
   ],
   "source": [
    "regr_model_final = linear_model.LinearRegression(fit_intercept=True)\n",
    "regr_model_final.fit(X, y)\n",
    "print(\"Coefficients: {}\".format(regr_model.coef_))\n",
    "print(\"Intercept: {}\".format(regr_model.intercept_))"
   ]
  },
  {
   "cell_type": "markdown",
   "metadata": {},
   "source": [
    "## Prediction\n",
    "Using the equation: $y_{pred} = b[0] + b[1]x $, we can make predictions for total payements (y) given claims (x). \n",
    "\n",
    "Unseen, new data is used here."
   ]
  },
  {
   "cell_type": "code",
   "execution_count": 11,
   "metadata": {},
   "outputs": [
    {
     "data": {
      "text/html": [
       "<div>\n",
       "<style scoped>\n",
       "    .dataframe tbody tr th:only-of-type {\n",
       "        vertical-align: middle;\n",
       "    }\n",
       "\n",
       "    .dataframe tbody tr th {\n",
       "        vertical-align: top;\n",
       "    }\n",
       "\n",
       "    .dataframe thead th {\n",
       "        text-align: right;\n",
       "    }\n",
       "</style>\n",
       "<table border=\"1\" class=\"dataframe\">\n",
       "  <thead>\n",
       "    <tr style=\"text-align: right;\">\n",
       "      <th></th>\n",
       "      <th>X_test</th>\n",
       "      <th>y_pred</th>\n",
       "    </tr>\n",
       "  </thead>\n",
       "  <tbody>\n",
       "    <tr>\n",
       "      <th>0</th>\n",
       "      <td>31</td>\n",
       "      <td>125.823016</td>\n",
       "    </tr>\n",
       "    <tr>\n",
       "      <th>1</th>\n",
       "      <td>14</td>\n",
       "      <td>67.788016</td>\n",
       "    </tr>\n",
       "    <tr>\n",
       "      <th>2</th>\n",
       "      <td>53</td>\n",
       "      <td>200.927134</td>\n",
       "    </tr>\n",
       "    <tr>\n",
       "      <th>3</th>\n",
       "      <td>26</td>\n",
       "      <td>108.753898</td>\n",
       "    </tr>\n",
       "    <tr>\n",
       "      <th>4</th>\n",
       "      <td>100</td>\n",
       "      <td>361.376842</td>\n",
       "    </tr>\n",
       "    <tr>\n",
       "      <th>5</th>\n",
       "      <td>120</td>\n",
       "      <td>429.653313</td>\n",
       "    </tr>\n",
       "    <tr>\n",
       "      <th>6</th>\n",
       "      <td>95</td>\n",
       "      <td>344.307724</td>\n",
       "    </tr>\n",
       "    <tr>\n",
       "      <th>7</th>\n",
       "      <td>200</td>\n",
       "      <td>702.759198</td>\n",
       "    </tr>\n",
       "  </tbody>\n",
       "</table>\n",
       "</div>"
      ],
      "text/plain": [
       "   X_test      y_pred\n",
       "0      31  125.823016\n",
       "1      14   67.788016\n",
       "2      53  200.927134\n",
       "3      26  108.753898\n",
       "4     100  361.376842\n",
       "5     120  429.653313\n",
       "6      95  344.307724\n",
       "7     200  702.759198"
      ]
     },
     "execution_count": 11,
     "metadata": {},
     "output_type": "execute_result"
    }
   ],
   "source": [
    "# unseen test data set\n",
    "X_test = np.array(pd.DataFrame([31, 14, 53, 26, 100, 120, 95, 200]))\n",
    "\n",
    "# make predictions on new data using the coefficients obtained above\n",
    "y_pred = regr_model_final.predict(X_test).ravel().tolist()\n",
    "pd.DataFrame({'X_test': X_test.ravel().tolist(), 'y_pred': y_pred})"
   ]
  },
  {
   "cell_type": "markdown",
   "metadata": {},
   "source": [
    "## Regression line using built model\n",
    "Using the coefficient from generated by the model we can plot the regression line on the scatter plot."
   ]
  },
  {
   "cell_type": "code",
   "execution_count": 12,
   "metadata": {},
   "outputs": [
    {
     "data": {
      "image/png": "[encoded data removed]",
      "text/plain": [
       "<matplotlib.figure.Figure at 0x7f72192b61d0>"
      ]
     },
     "metadata": {},
     "output_type": "display_data"
    }
   ],
   "source": [
    "# Create a figure instance\n",
    "fig = plt.figure(1, figsize=(12, 10))\n",
    "\n",
    "# Create an axes instance\n",
    "ax = fig.add_subplot(111)\n",
    "\n",
    "# Create scatterplot\n",
    "ax.scatter(X, y, marker='*', c='green', label='Train')\n",
    "ax.scatter(X_test,y_pred, c='red', label='Test')\n",
    "ax.plot(X_test, y_pred, color=\"b\")\n",
    "ax.legend()\n",
    "# Set common labels\n",
    "ax.set_xlabel('number of claims')\n",
    "ax.set_ylabel('total payments(in thousands)')\n",
    "ax.set_title('Plot for Regression line fit on Train and Test data')\n",
    "\n",
    "plt.show()\n",
    "# Save the figure, if needed\n",
    "# fig.savefig('fig1.png', bbox_inches='tight')"
   ]
  },
  {
   "cell_type": "markdown",
   "metadata": {},
   "source": [
    "#### Interpretation\n",
    "We can observe that this closely approximates the data and regression line from the seaborn reg_plot is almost similar to it."
   ]
  },
  {
   "cell_type": "code",
   "execution_count": null,
   "metadata": {},
   "outputs": [],
   "source": []
  }
 ],
 "metadata": {
  "kernelspec": {
   "display_name": "Python 2",
   "language": "python",
   "name": "python2"
  },
  "language_info": {
   "codemirror_mode": {
    "name": "ipython",
    "version": 2
   },
   "file_extension": ".py",
   "mimetype": "text/x-python",
   "name": "python",
   "nbconvert_exporter": "python",
   "pygments_lexer": "ipython2",
   "version": "2.7.12"
  }
 },
 "nbformat": 4,
 "nbformat_minor": 2
}
