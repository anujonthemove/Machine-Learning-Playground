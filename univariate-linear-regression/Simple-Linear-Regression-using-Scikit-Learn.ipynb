{
 "cells": [
  {
   "cell_type": "markdown",
   "metadata": {},
   "source": [
    "# Simple Linear Regression - using Scikit Learn\n",
    "\n",
    "By: Anuj Khandelwal (@anujonthemove)\n",
    "\n",
    "In my previous notebooks I have implemented Simple Linear Regression using closed-form math solution and using gradient descent. This notebook is to demonstrate simple linear regression using Scikit Learn.\n",
    "\n",
    "**Dataset: ** [Sweden Auto Insurance data](https://www.math.muni.cz/~kolacek/docs/frvs/M7222Q/data/AutoInsurSweden.txt)\n",
    "\n",
    "**Task: ** Predict payment for auto insurance claims in Sweden. "
   ]
  },
  {
   "cell_type": "markdown",
   "metadata": {},
   "source": [
    "## Imports"
   ]
  },
  {
   "cell_type": "code",
   "execution_count": 1,
   "metadata": {},
   "outputs": [],
   "source": [
    "import numpy as np\n",
    "import pandas as pd\n",
    "import matplotlib.pyplot as plt\n",
    "%matplotlib inline"
   ]
  },
  {
   "cell_type": "markdown",
   "metadata": {},
   "source": [
    "## Load data"
   ]
  },
  {
   "cell_type": "code",
   "execution_count": 2,
   "metadata": {},
   "outputs": [
    {
     "name": "stdout",
     "output_type": "stream",
     "text": [
      "   num_claims  total_payment\n",
      "0         108          392.5\n",
      "1          19           46.2\n",
      "2          13           15.7\n",
      "3         124          422.2\n",
      "4          40          119.4\n"
     ]
    }
   ],
   "source": [
    "data = pd.read_csv('../datasets/regression/univariate-regression/auto-insurance-data/auto-insurance-sweden.csv', sep=','\n",
    "                 , names=['num_claims', 'total_payment'], skiprows=1)\n",
    "print(data.head())"
   ]
  },
  {
   "cell_type": "markdown",
   "metadata": {},
   "source": [
    "## Rows and Columns"
   ]
  },
  {
   "cell_type": "code",
   "execution_count": 3,
   "metadata": {},
   "outputs": [
    {
     "name": "stdout",
     "output_type": "stream",
     "text": [
      "('rows: 63', 'cols: 2')\n"
     ]
    }
   ],
   "source": [
    "# rows and columns\n",
    "rows, cols = data.shape\n",
    "print(\"rows: {}\".format(rows), \"cols: {}\".format(cols))"
   ]
  },
  {
   "cell_type": "markdown",
   "metadata": {},
   "source": [
    "## Split data and convert to numpy arrays\n",
    "Split the data into training data and target data.<br>\n",
    "Converting dataframes to numpy arrays makes math operations easy."
   ]
  },
  {
   "cell_type": "code",
   "execution_count": 4,
   "metadata": {},
   "outputs": [],
   "source": [
    "X_df = data.iloc[:,0:1]\n",
    "y_df = data.iloc[:,1:2]\n",
    "\n",
    "# converting dataframe object to numpy arrays for optimized math operations\n",
    "X = np.array(X_df)\n",
    "y = np.array(y_df)"
   ]
  },
  {
   "cell_type": "markdown",
   "metadata": {},
   "source": [
    "## Linear model evaluation\n",
    "Using **k-fold cross validation** for model evaluation. \"Cross-validation is a technique to evaluate predictive models by partitioning the original sample into a training set to train the model, and a test set to evaluate it.\" <br>\n",
    "Source: [OpenML](https://www.openml.org/a/estimation-procedures/1)"
   ]
  },
  {
   "cell_type": "code",
   "execution_count": 5,
   "metadata": {
    "scrolled": false
   },
   "outputs": [
    {
     "name": "stdout",
     "output_type": "stream",
     "text": [
      "Mean of MSE: 1256.26664364\n",
      "Mean of variance score: 0.781815872834\n"
     ]
    }
   ],
   "source": [
    "# error metric\n",
    "from sklearn.metrics import mean_squared_error\n",
    "# cross-validation\n",
    "from sklearn.model_selection import KFold\n",
    "# import linear model\n",
    "from sklearn import linear_model\n",
    "\n",
    "# initialize k-fold cross-validation with 2 splits\n",
    "kf = KFold(n_splits=2, shuffle=True)\n",
    "\n",
    "# split input data \n",
    "kf.get_n_splits(X)\n",
    "\n",
    "# create linear regression object\n",
    "regr = linear_model.LinearRegression()\n",
    "\n",
    "results = []\n",
    "score = []\n",
    "\n",
    "for train_index, test_index in kf.split(X):\n",
    "    predictions = regr.fit(X[train_index], y[train_index]).predict(X[test_index])\n",
    "    results.append(mean_squared_error(y[test_index], predictions))\n",
    "    score.append(regr.score(X[test_index], y[test_index]))\n",
    "    \n",
    "print(\"Mean of MSE: {}\".format(np.mean(results)))\n",
    "print(\"Mean of variance score: {}\".format(np.mean(score)))"
   ]
  },
  {
   "cell_type": "markdown",
   "metadata": {},
   "source": [
    "## Fit model on the entire dataset"
   ]
  },
  {
   "cell_type": "code",
   "execution_count": 6,
   "metadata": {},
   "outputs": [
    {
     "name": "stdout",
     "output_type": "stream",
     "text": [
      "Coefficients: [[3.41382356]]\n",
      "Intercept: [19.99448576]\n"
     ]
    }
   ],
   "source": [
    "regr.fit(X, y)\n",
    "print(\"Coefficients: {}\".format(regr.coef_))\n",
    "print(\"Intercept: {}\".format(regr.intercept_))\n",
    "coeff = np.array([(regr.intercept_).flatten(), (regr.coef_).flatten()])"
   ]
  },
  {
   "cell_type": "markdown",
   "metadata": {},
   "source": [
    "## Prediction"
   ]
  },
  {
   "cell_type": "code",
   "execution_count": 7,
   "metadata": {},
   "outputs": [
    {
     "name": "stdout",
     "output_type": "stream",
     "text": [
      "predictions: \n",
      " [[125.82301612]\n",
      " [ 67.7880156 ]\n",
      " [200.92713444]\n",
      " [108.75389832]\n",
      " [361.37684177]\n",
      " [429.65331297]\n",
      " [344.30772397]\n",
      " [702.75919777]]\n"
     ]
    }
   ],
   "source": [
    "Test_x = np.array([31, 14, 53, 26, 100, 120, 95, 200])\n",
    "Test_x = Test_x[:, np.newaxis]\n",
    "predictions = regr.predict(Test_x)\n",
    "# pd.DataFrame({'X_test': Test_x, 'y_pred': predictions})\n",
    "print(\"predictions: \\n {}\".format(predictions))"
   ]
  },
  {
   "cell_type": "markdown",
   "metadata": {},
   "source": [
    "## Regression Line"
   ]
  },
  {
   "cell_type": "code",
   "execution_count": 10,
   "metadata": {},
   "outputs": [
    {
     "data": {
      "image/png": "[encoded data removed]",
      "text/plain": [
       "<matplotlib.figure.Figure at 0x7f46a8b08fd0>"
      ]
     },
     "metadata": {},
     "output_type": "display_data"
    }
   ],
   "source": [
    "plt.figure(figsize=(10, 8))\n",
    "plt.scatter(X, y, alpha=0.5)\n",
    "plt.title('Sweden Auto Insurance Dataset')\n",
    "plt.xlabel('number of claims')\n",
    "plt.ylabel('total payment(in thousands)')\n",
    "plt.grid()\n",
    "plt.plot(Test_x, predictions, 'g');"
   ]
  },
  {
   "cell_type": "code",
   "execution_count": null,
   "metadata": {},
   "outputs": [],
   "source": []
  }
 ],
 "metadata": {
  "kernelspec": {
   "display_name": "Python 2",
   "language": "python",
   "name": "python2"
  },
  "language_info": {
   "codemirror_mode": {
    "name": "ipython",
    "version": 2
   },
   "file_extension": ".py",
   "mimetype": "text/x-python",
   "name": "python",
   "nbconvert_exporter": "python",
   "pygments_lexer": "ipython2",
   "version": "2.7.12"
  }
 },
 "nbformat": 4,
 "nbformat_minor": 2
}
