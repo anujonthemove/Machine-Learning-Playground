{
 "cells": [
  {
   "cell_type": "markdown",
   "metadata": {},
   "source": [
    "## Linear Regression with Multiple Variables using Gradient Descent algorithm\n",
    "Multivariable regression involves multiple regression parameters. The form of equation is:\n",
    "$$y = \\beta_0 + \\beta_1x_1 + \\beta_2x_2 ...$$\n",
    "\n",
    "I implemented Simple Linear Regression using vectorized notation [here](https://github.com/anujonthemove/The-World-of-Machine-Learning/blob/master/univariate-linear-regression/Linear-Regression-with-One-Variable-using-Gradient-Descent-Learning.ipynb) \n",
    "which can be easily extended to solve for parameters of multivarate linear regression using the vector form: $y=X\\beta$\n",
    "\n",
    "**Dataset:** Taken from Week 1 programming exercise from Coursera Machine Learning course. "
   ]
  },
  {
   "cell_type": "markdown",
   "metadata": {},
   "source": [
    "## Imports"
   ]
  },
  {
   "cell_type": "code",
   "execution_count": 1,
   "metadata": {
    "collapsed": true
   },
   "outputs": [],
   "source": [
    "import numpy as np\n",
    "import pandas as pd\n",
    "import matplotlib.pyplot as plt\n",
    "from mpl_toolkits.mplot3d import axes3d\n",
    "%matplotlib inline"
   ]
  },
  {
   "cell_type": "markdown",
   "metadata": {},
   "source": [
    "## Utility functions\n",
    "\n",
    "The main algorithms (cost function and gradient descent) are vectorized implementation so that they work for both univariate and multivariate cases."
   ]
  },
  {
   "cell_type": "code",
   "execution_count": 2,
   "metadata": {
    "collapsed": true
   },
   "outputs": [],
   "source": [
    "def computeCostMulti(X, y, theta):\n",
    "    \"\"\"\n",
    "    computes the cost of using theta as the\n",
    "    parameter for linear regression to fit the data points in X and y\n",
    "    \"\"\"\n",
    "    # number of training examples    \n",
    "    m = len(y)\n",
    "    \n",
    "    # Method - 1: non-vectorized notation\n",
    "    # J = np.sum(np.power((X.dot(theta) - y), 2))/2/m\n",
    "    \n",
    "    # Method - 2: vectorized notation\n",
    "    error = X.dot(theta) - y\n",
    "    # J = error.T.dot(error)/2/m\n",
    "    J = np.true_divide(error.T.dot(error), (2*m))\n",
    "    \n",
    "    return J"
   ]
  },
  {
   "cell_type": "code",
   "execution_count": 3,
   "metadata": {
    "collapsed": true
   },
   "outputs": [],
   "source": [
    "def gradientDescentMulti(X, y, theta, alpha, num_iters):\n",
    "    \"\"\"\n",
    "    updates theta by taking num_iters gradient steps with learning rate alpha\n",
    "    \"\"\"\n",
    "    m = len(y)\n",
    "    J_history = np.zeros(num_iters)\n",
    "    \n",
    "    for iter in range(num_iters):\n",
    "        delta = np.true_divide(X.T.dot(X.dot(theta) - y), m)\n",
    "        theta = theta - alpha*delta\n",
    "        J_history[iter] = computeCostMulti(X, y, theta)\n",
    "    \n",
    "    return theta, J_history"
   ]
  },
  {
   "cell_type": "code",
   "execution_count": 4,
   "metadata": {
    "collapsed": true
   },
   "outputs": [],
   "source": [
    "def featureNormalize(X):\n",
    "    \"\"\"\n",
    "    does feature normalization of a given feature set\n",
    "    the mean value of each feature is 0 and the standard deviation\n",
    "    is 1. This is often a good preprocessing step to do when\n",
    "    working with learning algorithms.\n",
    "    \"\"\"\n",
    "    num_cols = X.shape[1]\n",
    "    X_norm = np.zeros(shape=X.shape, dtype=float)\n",
    "    \n",
    "    mu = np.zeros(num_cols)\n",
    "    sigma = np.zeros(num_cols)\n",
    "    \n",
    "    for it in range(num_cols):\n",
    "        mu[it] = np.mean(X[:, it])\n",
    "        sigma[it] = np.std(X[:, it])\n",
    "        X_norm[:, it] = np.true_divide(np.subtract(X[:, it], mu[it]), sigma[it])\n",
    "        \n",
    "    return X_norm, mu, sigma"
   ]
  },
  {
   "cell_type": "markdown",
   "metadata": {},
   "source": [
    "## Load data\n",
    "\n",
    "The data set contains three columns: \n",
    "* Size of the house (in square feet) (x1)\n",
    "* Number of bedrooms(x2)\n",
    "* Price of the house(y)\n",
    "\n",
    "Looking at the dataset, it can be seen that house sizes are about thousand times the number of bedrooms. Since there are only two features, this can also be seen using a 3D scatter plot below.\n",
    "In cases when features differ each other by orders of magnitude, an essential step is to perform ***feature scaling*** before using the data for building a model. Gradient descent would converge quickly on scaled dataset. "
   ]
  },
  {
   "cell_type": "code",
   "execution_count": 5,
   "metadata": {},
   "outputs": [
    {
     "name": "stdout",
     "output_type": "stream",
     "text": [
      "   size_of_the_house  num_of_bedrooms  price_of_house\n",
      "0               2104                3          399900\n",
      "1               1600                3          329900\n",
      "2               2400                3          369000\n",
      "3               1416                2          232000\n",
      "4               3000                4          539900\n"
     ]
    }
   ],
   "source": [
    "df = pd.read_csv('../datasets/regression/multivariate-regression/ex1data2.txt', sep=',', \n",
    "                 names = ['size_of_the_house', 'num_of_bedrooms', 'price_of_house'])\n",
    "print(df.head())"
   ]
  },
  {
   "cell_type": "markdown",
   "metadata": {},
   "source": [
    "## Count of rows and columns"
   ]
  },
  {
   "cell_type": "code",
   "execution_count": 6,
   "metadata": {},
   "outputs": [
    {
     "name": "stdout",
     "output_type": "stream",
     "text": [
      "('rows: 47', 'cols: 3')\n"
     ]
    }
   ],
   "source": [
    "# rows and columns\n",
    "rows, cols = df.shape\n",
    "print(\"rows: {}\".format(rows), \"cols: {}\".format(cols))"
   ]
  },
  {
   "cell_type": "markdown",
   "metadata": {},
   "source": [
    "## Split data\n",
    "Split the data set into feature vector (X_df) and target vector (y_df)"
   ]
  },
  {
   "cell_type": "code",
   "execution_count": 7,
   "metadata": {
    "collapsed": true
   },
   "outputs": [],
   "source": [
    "# train and taget values\n",
    "X_df = df.iloc[:, 0:2]\n",
    "y_df = df.iloc[:, 2:3]\n",
    "\n",
    "# converting data to numpy arrays\n",
    "X = np.array(X_df)\n",
    "y = np.array(y_df)"
   ]
  },
  {
   "cell_type": "markdown",
   "metadata": {},
   "source": [
    "## Histogram of feature values\n",
    "From the histogram, it is clear that there is a huge difference in scale between the variables. So, the next step is to perform feature scaling."
   ]
  },
  {
   "cell_type": "code",
   "execution_count": 8,
   "metadata": {},
   "outputs": [
    {
     "data": {
      "image/png": "[encoded data removed]",
      "text/plain": [
       "<matplotlib.figure.Figure at 0x7fb38fad3490>"
      ]
     },
     "metadata": {},
     "output_type": "display_data"
    }
   ],
   "source": [
    "# Create grid coordinates for plotting \n",
    "fig = plt.figure(figsize=(10, 6)) \n",
    "\n",
    "# ax1 = fig.add_subplot(1, 2, 1, projection='3d') \n",
    "ax1 = fig.add_subplot(1, 1, 1) \n",
    "\n",
    "# histogram to visualize dataset values\n",
    "ax1.grid()\n",
    "plot = plt.hist(X[:, 0], label='house size')\n",
    "plot = plt.hist(X[:, 1], label='no of bedrooms')\n",
    "plt.xlabel('Column values')\n",
    "plt.ylabel('Counts')\n",
    "plot = plt.legend()"
   ]
  },
  {
   "cell_type": "markdown",
   "metadata": {},
   "source": [
    "## Feature normalization\n",
    "When I was performing feature scaling, I thought \"***is it necessary to scale the target value in addition to scaling features?***\". On reading this [QA on Cross Validated](https://stats.stackexchange.com/questions/111467/is-it-necessary-to-scale-the-target-value-in-addition-to-scaling-features-for-re) I think it is not."
   ]
  },
  {
   "cell_type": "code",
   "execution_count": 9,
   "metadata": {
    "collapsed": true,
    "scrolled": false
   },
   "outputs": [],
   "source": [
    "X_norm, mu, sigma = featureNormalize(X);\n",
    "X = np.copy(X_norm)"
   ]
  },
  {
   "cell_type": "markdown",
   "metadata": {},
   "source": [
    "## Histogram of normalized features\n",
    "On plotting the histogram of normalized values it can be seen that both feature values have come on to the same scale. We can now proceed for gradient descent."
   ]
  },
  {
   "cell_type": "code",
   "execution_count": 10,
   "metadata": {},
   "outputs": [
    {
     "data": {
      "image/png": "[encoded data removed]",
      "text/plain": [
       "<matplotlib.figure.Figure at 0x7fb38fa17d10>"
      ]
     },
     "metadata": {},
     "output_type": "display_data"
    }
   ],
   "source": [
    "# Create grid coordinates for plotting \n",
    "fig = plt.figure(figsize=(10, 6)) \n",
    "\n",
    "# ax1 = fig.add_subplot(1, 2, 1, projection='3d') \n",
    "ax1 = fig.add_subplot(1, 1, 1) \n",
    "\n",
    "# histogram to visualize dataset values\n",
    "ax1.grid()\n",
    "plot = plt.hist(X[:, 0], label='house size')\n",
    "plot = plt.hist(X[:, 1], label='no. of bedrooms')\n",
    "plt.xlabel('Column values')\n",
    "plt.ylabel('Counts')\n",
    "plot = plt.legend()"
   ]
  },
  {
   "cell_type": "code",
   "execution_count": 11,
   "metadata": {
    "collapsed": true
   },
   "outputs": [],
   "source": [
    "# Adding intercept term\n",
    "X = np.insert(X, 0, 1, axis=1)\n",
    "# quitessential step\n",
    "y = y.flatten()\n",
    "\n",
    "# initializing theta with zero values\n",
    "theta = np.zeros(X.shape[1])\n",
    "# theta = np.array([0, 0, 0])"
   ]
  },
  {
   "cell_type": "code",
   "execution_count": 12,
   "metadata": {},
   "outputs": [
    {
     "data": {
      "text/plain": [
       "65591548106.457443"
      ]
     },
     "execution_count": 12,
     "metadata": {},
     "output_type": "execute_result"
    }
   ],
   "source": [
    "computeCostMulti(X, y, theta)"
   ]
  },
  {
   "cell_type": "markdown",
   "metadata": {},
   "source": [
    "## Gradient descent\n",
    "Calculating theta values and plotting the cost per iteration. The plot clearly shows that the cost goes down with iterations and at the end we have optimum values for theta for which the cost is minimum."
   ]
  },
  {
   "cell_type": "code",
   "execution_count": 13,
   "metadata": {},
   "outputs": [
    {
     "data": {
      "image/png": "[encoded data removed]",
      "text/plain": [
       "<matplotlib.figure.Figure at 0x7fb38fad31d0>"
      ]
     },
     "metadata": {},
     "output_type": "display_data"
    }
   ],
   "source": [
    "alpha = 0.01\n",
    "iterations = 500\n",
    "plt.figure(figsize=(10, 6))\n",
    "\n",
    "theta, J_history = gradientDescentMulti(X, y, theta, alpha, iterations)\n",
    "plt.plot(J_history)\n",
    "plt.title('Convergence of gradient descent with an appropriate learning rate 0.01')\n",
    "plt.ylabel('Cost J')\n",
    "plt.xlabel('Number of iterations');"
   ]
  },
  {
   "cell_type": "markdown",
   "metadata": {},
   "source": [
    "## Prediction\n",
    "Finally, let's make some predictions for a test dataset. "
   ]
  },
  {
   "cell_type": "code",
   "execution_count": 14,
   "metadata": {},
   "outputs": [
    {
     "name": "stdout",
     "output_type": "stream",
     "text": [
      "For normalized values of size of house 13100, its predicted price is $473200.671400\n",
      "For normalized values of size of house 1500, its predicted price is $353696.760643\n"
     ]
    }
   ],
   "source": [
    "# Predict values for population sizes of 35,000 and 70,000\n",
    "th = 10000\n",
    "X_test = np.array([[ 1., 1.31,  -0.260], [ 1.0, 0.15,  -0.326]])\n",
    "\n",
    "# X_test.shape\n",
    "rows = X_test.shape[0]\n",
    "for it in range(rows):\n",
    "    prediction = X_test[it].dot(theta)\n",
    "    print(\"For normalized values of size of house {}, its predicted price is ${:f}\".format(int(X_test[it][1]*th), float(prediction)))"
   ]
  },
  {
   "cell_type": "markdown",
   "metadata": {
    "collapsed": true
   },
   "source": [
    "## What is remaining?\n",
    "\n",
    "On researching a bit, I realized that linear regression is a much more involved topic than just a bunch of formulas covered in this notebook. \n",
    "\n",
    "I am yet to learn and add some of the concepts/ideas related to linear regression:\n",
    "\n",
    "* How to decide when and where linear models are to be used?\n",
    "* Assumptions of linear regression\n",
    "* Confidence intervals\n",
    "* p-values \n",
    "* Hypothesis testing \n",
    "* goodness of fit (using r-squared)\n",
    "* Q-Q plot\n",
    "* Finally, interpreting the output of linear regression"
   ]
  }
 ],
 "metadata": {
  "kernelspec": {
   "display_name": "Python 2",
   "language": "python",
   "name": "python2"
  },
  "language_info": {
   "codemirror_mode": {
    "name": "ipython",
    "version": 2
   },
   "file_extension": ".py",
   "mimetype": "text/x-python",
   "name": "python",
   "nbconvert_exporter": "python",
   "pygments_lexer": "ipython2",
   "version": "2.7.12"
  }
 },
 "nbformat": 4,
 "nbformat_minor": 2
}
